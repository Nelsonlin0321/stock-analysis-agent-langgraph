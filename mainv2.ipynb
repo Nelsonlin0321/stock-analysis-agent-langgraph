{
 "cells": [
  {
   "cell_type": "code",
   "execution_count": 1,
   "metadata": {},
   "outputs": [],
   "source": [
    "%load_ext autoreload\n",
    "%autoreload 2\n"
   ]
  },
  {
   "cell_type": "code",
   "execution_count": 2,
   "metadata": {},
   "outputs": [],
   "source": [
    "import os\n",
    "import json\n",
    "import dotenv"
   ]
  },
  {
   "cell_type": "code",
   "execution_count": 3,
   "metadata": {},
   "outputs": [
    {
     "data": {
      "text/plain": [
       "True"
      ]
     },
     "execution_count": 3,
     "metadata": {},
     "output_type": "execute_result"
    }
   ],
   "source": [
    "dotenv.load_dotenv()"
   ]
  },
  {
   "cell_type": "code",
   "execution_count": 44,
   "metadata": {},
   "outputs": [],
   "source": [
    "from langchain_core.tools import tool\n",
    "from langchain_deepseek import ChatDeepSeek\n",
    "from typing_extensions import Annotated, TypedDict, Literal\n",
    "from langgraph.graph.message import add_messages\n",
    "from langgraph.prebuilt import ToolNode, InjectedState\n",
    "from langgraph.graph import StateGraph\n",
    "from langchain_core.messages import HumanMessage"
   ]
  },
  {
   "cell_type": "code",
   "execution_count": 5,
   "metadata": {},
   "outputs": [],
   "source": [
    "from src.utils_stock import get_top_nasdaq_stock_data"
   ]
  },
  {
   "cell_type": "code",
   "execution_count": 6,
   "metadata": {},
   "outputs": [],
   "source": [
    "llm = ChatDeepSeek(model=\"deepseek-chat\",\n",
    "                   api_key=os.getenv(\"DEEPSEEK_API_KEY\"))"
   ]
  },
  {
   "cell_type": "code",
   "execution_count": 7,
   "metadata": {},
   "outputs": [],
   "source": [
    "class State(TypedDict):\n",
    "    messages: Annotated[list, add_messages]\n",
    "    number_of_days_analysis: int\n",
    "    email_address: str"
   ]
  },
  {
   "cell_type": "markdown",
   "metadata": {},
   "source": [
    "### Data Acquisition Agent"
   ]
  },
  {
   "cell_type": "code",
   "execution_count": 8,
   "metadata": {},
   "outputs": [],
   "source": [
    "@tool\n",
    "def get_top_nasdaq_performance_stock_data(\n",
    "    state: Annotated[State, InjectedState]\n",
    ") -> str:\n",
    "    \"\"\"\n",
    "\n",
    "    Get the day's top NASDAQ-100 gainer with symbol, percentage increase, sample data in markdown format, pandas dataframe info and csv data path for further python code analysis.\n",
    "\n",
    "    Returns:\n",
    "        str: Top nasdaq performance stock data information\n",
    "    \"\"\"\n",
    "\n",
    "    result = get_top_nasdaq_stock_data(state['number_of_days_analysis'])\n",
    "    return json.dumps(result)"
   ]
  },
  {
   "cell_type": "code",
   "execution_count": 9,
   "metadata": {},
   "outputs": [],
   "source": [
    "data_acquisition_tools = [get_top_nasdaq_performance_stock_data]"
   ]
  },
  {
   "cell_type": "code",
   "execution_count": 10,
   "metadata": {},
   "outputs": [],
   "source": [
    "data_acquisition_tools_node = ToolNode(data_acquisition_tools)"
   ]
  },
  {
   "cell_type": "code",
   "execution_count": 11,
   "metadata": {},
   "outputs": [],
   "source": [
    "data_acquisition_agent = llm.bind_tools(data_acquisition_tools)"
   ]
  },
  {
   "cell_type": "code",
   "execution_count": 13,
   "metadata": {},
   "outputs": [],
   "source": [
    "def data_acquisition_agent_node(state: State):\n",
    "    messages = state[\"messages\"]\n",
    "    response = data_acquisition_agent.invoke(messages)\n",
    "    return {\"messages\": [response]}"
   ]
  },
  {
   "cell_type": "code",
   "execution_count": 41,
   "metadata": {},
   "outputs": [],
   "source": [
    "# Define the conditional edge between the nodes\n",
    "def data_acquisition_reflection(state: State) -> Literal[\"data_acquisition_tool\", \"__end__\"]:\n",
    "    messages = state[\"messages\"]\n",
    "    last_message = messages[-1]\n",
    "    if last_message.tool_calls:\n",
    "        return \"data_acquisition_tool\"\n",
    "    return \"__end__\""
   ]
  },
  {
   "cell_type": "code",
   "execution_count": 42,
   "metadata": {},
   "outputs": [],
   "source": [
    "workflow = StateGraph(State)\n",
    "workflow.add_node(\"data_acquisition_agent\", data_acquisition_agent_node)\n",
    "workflow.add_node(\"data_acquisition_tool\", data_acquisition_tools_node)\n",
    "\n",
    "workflow.add_edge(\"__start__\", \"data_acquisition_agent\")\n",
    "workflow.add_conditional_edges(\n",
    "    \"data_acquisition_agent\",\n",
    "    data_acquisition_reflection,\n",
    ")\n",
    "workflow.add_edge(\"data_acquisition_tool\", \"data_acquisition_agent\")\n",
    "\n",
    "graph = workflow.compile()"
   ]
  },
  {
   "cell_type": "code",
   "execution_count": 43,
   "metadata": {},
   "outputs": [
    {
     "name": "stdout",
     "output_type": "stream",
     "text": [
      "              +-----------+                     \n",
      "              | __start__ |                     \n",
      "              +-----------+                     \n",
      "                    *                           \n",
      "                    *                           \n",
      "                    *                           \n",
      "       +------------------------+               \n",
      "       | data_acquisition_agent |               \n",
      "       +------------------------+               \n",
      "            ...           ***                   \n",
      "          ..                 **                 \n",
      "        ..                     **               \n",
      "+---------+           +-----------------------+ \n",
      "| __end__ |           | data_acquisition_tool | \n",
      "+---------+           +-----------------------+ \n"
     ]
    }
   ],
   "source": [
    "graph.get_graph().print_ascii()"
   ]
  },
  {
   "cell_type": "code",
   "execution_count": 45,
   "metadata": {},
   "outputs": [],
   "source": [
    "input_message = HumanMessage(\n",
    "    content=\"First, Let get the top performance stock data\")"
   ]
  },
  {
   "cell_type": "code",
   "execution_count": 46,
   "metadata": {},
   "outputs": [
    {
     "name": "stdout",
     "output_type": "stream",
     "text": [
      "================================\u001b[1m Human Message \u001b[0m=================================\n",
      "\n",
      "First, Let get the top performance stock data\n",
      "==================================\u001b[1m Ai Message \u001b[0m==================================\n",
      "Tool Calls:\n",
      "  get_top_nasdaq_performance_stock_data (call_0_e78e8da9-6532-409e-a58f-e3f7860b7d82)\n",
      " Call ID: call_0_e78e8da9-6532-409e-a58f-e3f7860b7d82\n",
      "  Args:\n"
     ]
    },
    {
     "name": "stderr",
     "output_type": "stream",
     "text": [
      "100%|██████████| 101/101 [00:02<00:00, 37.41it/s]\n"
     ]
    },
    {
     "name": "stdout",
     "output_type": "stream",
     "text": [
      "=================================\u001b[1m Tool Message \u001b[0m=================================\n",
      "Name: get_top_nasdaq_performance_stock_data\n",
      "\n",
      "{\"symbol\": \"MNST\", \"percentage_increased\": 3.7238540649033007, \"sample_data_in_markdown\": \"| Date                      |   Open |   High |   Low |   Close |   Volume |   Dividends |   Stock Splits |\\n|:--------------------------|-------:|-------:|------:|--------:|---------:|------------:|---------------:|\\n| 2025-04-28 00:00:00-04:00 |  58.74 |  58.98 | 58.03 |   58.49 |  3057100 |           0 |              0 |\\n| 2025-04-29 00:00:00-04:00 |  58.59 |  59.33 | 58.01 |   59.25 |  3448100 |           0 |              0 |\\n| 2025-04-30 00:00:00-04:00 |  59.59 |  60.29 | 58.8  |   60.12 |  5228700 |           0 |              0 |\\n| 2025-05-01 00:00:00-04:00 |  59.86 |  60.03 | 59.3  |   59.52 |  5164900 |           0 |              0 |\\n| 2025-05-02 00:00:00-04:00 |  59.87 |  60.26 | 59.43 |   60.05 |  4161600 |           0 |              0 |\", \"data_csv_path\": \"/Volumes/mnt/Workspace/stock-analysis-agent-langgraph/data/mnst_performance_in_the_past_10_days.csv\", \"pandas_dataframe_info\": \"<class 'pandas.core.frame.DataFrame'>\\nRangeIndex: 10 entries, 0 to 9\\nData columns (total 8 columns):\\n #   Column        Non-Null Count  Dtype                           \\n---  ------        --------------  -----                           \\n 0   Date          10 non-null     datetime64[ns, America/New_York]\\n 1   Open          10 non-null     float64                         \\n 2   High          10 non-null     float64                         \\n 3   Low           10 non-null     float64                         \\n 4   Close         10 non-null     float64                         \\n 5   Volume        10 non-null     int64                           \\n 6   Dividends     10 non-null     float64                         \\n 7   Stock Splits  10 non-null     float64                         \\ndtypes: datetime64[ns, America/New_York](1), float64(6), int64(1)\\nmemory usage: 768.0 bytes\\n\"}\n",
      "==================================\u001b[1m Ai Message \u001b[0m==================================\n",
      "\n",
      "Here is the top-performing NASDAQ stock for today:\n",
      "\n",
      "- **Symbol:** MNST\n",
      "- **Percentage Increase:** 3.72%\n",
      "\n",
      "### Sample Data (Last 5 Days):\n",
      "| Date                      |   Open |   High |   Low |   Close |   Volume |   Dividends |   Stock Splits |\n",
      "|:--------------------------|-------:|-------:|------:|--------:|---------:|------------:|---------------:|\n",
      "| 2025-04-28 00:00:00-04:00 |  58.74 |  58.98 | 58.03 |   58.49 |  3057100 |           0 |              0 |\n",
      "| 2025-04-29 00:00:00-04:00 |  58.59 |  59.33 | 58.01 |   59.25 |  3448100 |           0 |              0 |\n",
      "| 2025-04-30 00:00:00-04:00 |  59.59 |  60.29 | 58.8  |   60.12 |  5228700 |           0 |              0 |\n",
      "| 2025-05-01 00:00:00-04:00 |  59.86 |  60.03 | 59.3  |   59.52 |  5164900 |           0 |              0 |\n",
      "| 2025-05-02 00:00:00-04:00 |  59.87 |  60.26 | 59.43 |   60.05 |  4161600 |           0 |              0 |\n",
      "\n",
      "### Data Information:\n",
      "- **CSV Path:** `/Volumes/mnt/Workspace/stock-analysis-agent-langgraph/data/mnst_performance_in_the_past_10_days.csv`\n",
      "- **Pandas DataFrame Info:**\n",
      "  ```plaintext\n",
      "  <class 'pandas.core.frame.DataFrame'>\n",
      "  RangeIndex: 10 entries, 0 to 9\n",
      "  Data columns (total 8 columns):\n",
      "   #   Column        Non-Null Count  Dtype                           \n",
      "  ---  ------        --------------  -----                           \n",
      "   0   Date          10 non-null     datetime64[ns, America/New_York]\n",
      "   1   Open          10 non-null     float64                         \n",
      "   2   High          10 non-null     float64                         \n",
      "   3   Low           10 non-null     float64                         \n",
      "   4   Close         10 non-null     float64                         \n",
      "   5   Volume        10 non-null     int64                           \n",
      "   6   Dividends     10 non-null     float64                         \n",
      "   7   Stock Splits  10 non-null     float64                         \n",
      "  dtypes: datetime64[ns, America/New_York](1), float64(6), int64(1)\n",
      "  memory usage: 768.0 bytes\n",
      "  ```\n",
      "\n",
      "Let me know if you'd like to analyze this data further!\n"
     ]
    }
   ],
   "source": [
    "events = graph.stream(\n",
    "    input={\n",
    "        \"messages\": [input_message],\n",
    "        \"number_of_days_analysis\": 10,\n",
    "        \"email_address\": \"nelsonlin0321@gmail.com\"\n",
    "    },\n",
    "    # Maximum number of steps to take in the graph\n",
    "    config={\"recursion_limit\": 15},\n",
    "    stream_mode=\"values\",\n",
    ")\n",
    "for event in events:\n",
    "    if \"messages\" in event:\n",
    "        event[\"messages\"][-1].pretty_print()"
   ]
  },
  {
   "cell_type": "code",
   "execution_count": null,
   "metadata": {},
   "outputs": [],
   "source": []
  }
 ],
 "metadata": {
  "kernelspec": {
   "display_name": ".venv",
   "language": "python",
   "name": "python3"
  },
  "language_info": {
   "codemirror_mode": {
    "name": "ipython",
    "version": 3
   },
   "file_extension": ".py",
   "mimetype": "text/x-python",
   "name": "python",
   "nbconvert_exporter": "python",
   "pygments_lexer": "ipython3",
   "version": "3.10.16"
  }
 },
 "nbformat": 4,
 "nbformat_minor": 2
}
