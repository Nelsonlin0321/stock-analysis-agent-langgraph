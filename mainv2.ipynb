{
 "cells": [
  {
   "cell_type": "code",
   "execution_count": 1,
   "metadata": {},
   "outputs": [],
   "source": [
    "%load_ext autoreload\n",
    "%autoreload 2\n"
   ]
  },
  {
   "cell_type": "code",
   "execution_count": 2,
   "metadata": {},
   "outputs": [],
   "source": [
    "import os\n",
    "import json\n",
    "import dotenv"
   ]
  },
  {
   "cell_type": "code",
   "execution_count": 3,
   "metadata": {},
   "outputs": [
    {
     "data": {
      "text/plain": [
       "True"
      ]
     },
     "execution_count": 3,
     "metadata": {},
     "output_type": "execute_result"
    }
   ],
   "source": [
    "dotenv.load_dotenv()"
   ]
  },
  {
   "cell_type": "code",
   "execution_count": 4,
   "metadata": {},
   "outputs": [],
   "source": [
    "from langchain_core.tools import tool\n",
    "from langchain_deepseek import ChatDeepSeek\n",
    "from typing_extensions import Annotated, TypedDict, Literal\n",
    "from langgraph.graph.message import add_messages\n",
    "from langgraph.prebuilt import ToolNode, InjectedState\n",
    "from langgraph.graph import StateGraph\n",
    "from langchain_core.messages import HumanMessage, SystemMessage\n",
    "from langchain_experimental.utilities import PythonREPL"
   ]
  },
  {
   "cell_type": "code",
   "execution_count": 5,
   "metadata": {},
   "outputs": [],
   "source": [
    "from src.utils_stock import get_top_nasdaq_stock_data"
   ]
  },
  {
   "cell_type": "code",
   "execution_count": 6,
   "metadata": {},
   "outputs": [],
   "source": [
    "llm = ChatDeepSeek(model=\"deepseek-chat\",\n",
    "                   api_key=os.getenv(\"DEEPSEEK_API_KEY\"))"
   ]
  },
  {
   "cell_type": "code",
   "execution_count": 7,
   "metadata": {},
   "outputs": [],
   "source": [
    "class State(TypedDict):\n",
    "    messages: Annotated[list, add_messages]\n",
    "    number_of_days_analysis: int\n",
    "    email_address: str"
   ]
  },
  {
   "cell_type": "markdown",
   "metadata": {},
   "source": [
    "### Data Acquisition Agent"
   ]
  },
  {
   "cell_type": "code",
   "execution_count": 8,
   "metadata": {},
   "outputs": [],
   "source": [
    "@tool\n",
    "def get_top_nasdaq_performance_stock_data(\n",
    "    state: Annotated[State, InjectedState]\n",
    ") -> str:\n",
    "    \"\"\"\n",
    "\n",
    "    Get the day's top NASDAQ-100 gainer with symbol, percentage increase, sample data in markdown format, pandas dataframe info and csv data path for further python code analysis.\n",
    "\n",
    "    Returns:\n",
    "        str: Top nasdaq performance stock data information\n",
    "    \"\"\"\n",
    "\n",
    "    result = get_top_nasdaq_stock_data(state['number_of_days_analysis'])\n",
    "    return json.dumps(result, indent=4)"
   ]
  },
  {
   "cell_type": "code",
   "execution_count": 9,
   "metadata": {},
   "outputs": [],
   "source": [
    "data_acquisition_tools = [get_top_nasdaq_performance_stock_data]"
   ]
  },
  {
   "cell_type": "code",
   "execution_count": 10,
   "metadata": {},
   "outputs": [],
   "source": [
    "data_acquisition_tools_node = ToolNode(data_acquisition_tools)"
   ]
  },
  {
   "cell_type": "code",
   "execution_count": 11,
   "metadata": {},
   "outputs": [],
   "source": [
    "data_acquisition_agent = llm.bind_tools(data_acquisition_tools)"
   ]
  },
  {
   "cell_type": "code",
   "execution_count": 12,
   "metadata": {},
   "outputs": [],
   "source": [
    "def data_acquisition_agent_node(state: State):\n",
    "    messages = state[\"messages\"]\n",
    "    response = data_acquisition_agent.invoke(messages)\n",
    "    return {**state, \"messages\": [response]}"
   ]
  },
  {
   "cell_type": "code",
   "execution_count": 13,
   "metadata": {},
   "outputs": [],
   "source": [
    "# Define the conditional edge between the nodes\n",
    "def data_acquisition_reflection(state: State) -> Literal[\"data_acquisition_tool\", \"python_analysis_agent\"]:\n",
    "    messages = state[\"messages\"]\n",
    "    last_message = messages[-1]\n",
    "    if last_message.tool_calls:\n",
    "        return \"data_acquisition_tool\"\n",
    "    return \"python_analysis_agent\""
   ]
  },
  {
   "cell_type": "code",
   "execution_count": 14,
   "metadata": {},
   "outputs": [],
   "source": [
    "# workflow = StateGraph(State)\n",
    "# workflow.add_node(\"data_acquisition_agent\", data_acquisition_agent_node)\n",
    "# workflow.add_node(\"data_acquisition_tool\", data_acquisition_tools_node)\n",
    "\n",
    "# workflow.add_edge(\"__start__\", \"data_acquisition_agent\")\n",
    "# workflow.add_conditional_edges(\n",
    "#     \"data_acquisition_agent\",\n",
    "#     data_acquisition_reflection,\n",
    "# )\n",
    "# workflow.add_edge(\"data_acquisition_tool\", \"data_acquisition_agent\")\n",
    "\n",
    "# graph = workflow.compile()\n",
    "\n",
    "# graph.get_graph().print_ascii()"
   ]
  },
  {
   "cell_type": "code",
   "execution_count": 15,
   "metadata": {},
   "outputs": [],
   "source": [
    "# print(graph.get_graph().draw_mermaid())"
   ]
  },
  {
   "cell_type": "code",
   "execution_count": 16,
   "metadata": {},
   "outputs": [],
   "source": [
    "# input_message = HumanMessage(\n",
    "#     content=\"First, Let get the top performance stock data\")"
   ]
  },
  {
   "cell_type": "code",
   "execution_count": 17,
   "metadata": {},
   "outputs": [],
   "source": [
    "# events = graph.stream(\n",
    "#     input={\n",
    "#         \"messages\": [input_message],\n",
    "#         \"number_of_days_analysis\": 10,\n",
    "#         \"email_address\": \"nelsonlin0321@gmail.com\"\n",
    "#     },\n",
    "#     # Maximum number of steps to take in the graph\n",
    "#     config={\"recursion_limit\": 15},\n",
    "#     stream_mode=\"values\",\n",
    "# )\n",
    "# for event in events:\n",
    "#     if \"messages\" in event:\n",
    "#         event[\"messages\"][-1].pretty_print()"
   ]
  },
  {
   "cell_type": "markdown",
   "metadata": {},
   "source": [
    "### Python Analysis Agent"
   ]
  },
  {
   "cell_type": "code",
   "execution_count": 18,
   "metadata": {},
   "outputs": [],
   "source": [
    "repl = PythonREPL()\n",
    "\n",
    "\n",
    "@tool\n",
    "def python_repl_tool(\n",
    "    code: Annotated[str, \"The python code to execute to do comprehensive stock performance analysis\"],\n",
    "):\n",
    "    \"\"\"Use this to execute python code. If you want to see the output of a value,\n",
    "    you should print it out with `print(...)`. This is visible to the user.\"\"\"\n",
    "    try:\n",
    "        print(f\"Executing codes:{code}\")\n",
    "        result = repl.run(code)\n",
    "    except BaseException as e:\n",
    "        return f\"Failed to execute. Error: {repr(e)}\"\n",
    "    result_str = f\"Successfully executed:\\n```python\\n{code}\\n```\\nStdout: {result}\"\n",
    "    return result_str"
   ]
  },
  {
   "cell_type": "code",
   "execution_count": 19,
   "metadata": {},
   "outputs": [],
   "source": [
    "python_analysis_tools = [python_repl_tool]\n",
    "python_analysis_tools_node = ToolNode(python_analysis_tools)"
   ]
  },
  {
   "cell_type": "code",
   "execution_count": 20,
   "metadata": {},
   "outputs": [],
   "source": [
    "python_analysis_agent = llm.bind_tools(python_analysis_tools)"
   ]
  },
  {
   "cell_type": "code",
   "execution_count": 21,
   "metadata": {},
   "outputs": [],
   "source": [
    "def python_analysis_agent_node(state: State):\n",
    "    messages = state[\"messages\"]\n",
    "    print(\"messages\", messages)\n",
    "    system_message = SystemMessage(content=\"\"\"\n",
    "        You are an agent designed to write and execute python code for comprehensive stock analysis given data. \n",
    "        The data include the stock symbol, percentage increase, sample data in markdown format, pandas dataframe info, and csv data path for python code analysis. \n",
    "        You have access to a python REPL, which you can use to execute python code.\n",
    "        If you get an error, debug your code and try again.\n",
    "\n",
    "        Your tasks are to generate codes and execute codes with python REPL to fullfil below all requirements in a single python script. \n",
    "        Please call python REPL tool multiple times when necessarily to complete all below tasks.\n",
    "                                 \n",
    "        1. Data Loading and Preparation:\n",
    "           - Read and clean the provided CSV data using pandas\n",
    "           - Handle any missing values appropriately\n",
    "           - Ensure proper data types for calculations\n",
    "\n",
    "        2. Technical Analysis:\n",
    "           - Calculate and analyze moving averages (5-day, 10-day)\n",
    "           - Compute daily returns and cumulative returns\n",
    "           - Calculate trading volume trends\n",
    "           - Determine price momentum indicators\n",
    "           - Analyze last n trading days performance (average change, trend direction)\n",
    "           - Calculate volatility metrics (standard deviation, beta)\n",
    "\n",
    "        3. Statistical Insights:\n",
    "           - Perform descriptive statistics on price and volume data\n",
    "           - Calculate risk metrics (Sharpe ratio if applicable)\n",
    "           - Identify any statistically significant patterns\n",
    "           - Analyze distribution of returns\n",
    "\n",
    "        All the result should be using python print() to present in a clear, structured format using print statements so that is visible to the user in the console.\n",
    "\"\"\")\n",
    "    response = python_analysis_agent.invoke([system_message, *messages])\n",
    "    return {**state, \"messages\": [response]}"
   ]
  },
  {
   "cell_type": "code",
   "execution_count": 22,
   "metadata": {},
   "outputs": [],
   "source": [
    "# Define the conditional edge between the nodes\n",
    "def python_analysis_reflection(state: State) -> Literal[\"python_analysis_tool\", \"__end__\"]:\n",
    "    messages = state[\"messages\"]\n",
    "    last_message = messages[-1]\n",
    "    if last_message.tool_calls:\n",
    "        return \"python_analysis_tool\"\n",
    "    return \"__end__\""
   ]
  },
  {
   "cell_type": "code",
   "execution_count": 23,
   "metadata": {},
   "outputs": [],
   "source": [
    "# data_acquisition_agent\n",
    "workflow = StateGraph(State)\n",
    "workflow.add_node(\"data_acquisition_agent\", data_acquisition_agent_node)\n",
    "workflow.add_node(\"data_acquisition_tool\", data_acquisition_tools_node)\n",
    "\n",
    "workflow.add_node(\"python_analysis_agent\", python_analysis_agent_node)\n",
    "workflow.add_node(\"python_analysis_tool\", python_analysis_tools_node)\n",
    "\n",
    "\n",
    "workflow.add_edge(\"__start__\", \"data_acquisition_agent\")\n",
    "workflow.add_conditional_edges(\n",
    "    \"data_acquisition_agent\",\n",
    "    data_acquisition_reflection,\n",
    ")\n",
    "\n",
    "workflow.add_conditional_edges(\n",
    "    \"python_analysis_agent\",\n",
    "    python_analysis_reflection,\n",
    ")\n",
    "\n",
    "\n",
    "workflow.add_edge(\"data_acquisition_tool\", \"data_acquisition_agent\")\n",
    "workflow.add_edge(\"python_analysis_tool\", \"python_analysis_agent\")\n",
    "\n",
    "# workflow.add_edge(\"data_acquisition_agent\", \"python_analysis_agent\")\n",
    "\n",
    "graph = workflow.compile()"
   ]
  },
  {
   "cell_type": "code",
   "execution_count": 24,
   "metadata": {},
   "outputs": [
    {
     "name": "stdout",
     "output_type": "stream",
     "text": [
      "                        +-----------+                          \n",
      "                        | __start__ |                          \n",
      "                        +-----------+                          \n",
      "                              *                                \n",
      "                              *                                \n",
      "                              *                                \n",
      "                  +------------------------+                   \n",
      "                  | data_acquisition_agent |                   \n",
      "                  +------------------------+                   \n",
      "                     ***               ...                     \n",
      "                  ***                     ...                  \n",
      "                **                           ..                \n",
      "+-----------------------+           +-----------------------+  \n",
      "| data_acquisition_tool |           | python_analysis_agent |  \n",
      "+-----------------------+           +-----------------------+  \n",
      "                                 ....           .              \n",
      "                            .....               .              \n",
      "                         ...                    .              \n",
      "              +---------+           +----------------------+   \n",
      "              | __end__ |           | python_analysis_tool |   \n",
      "              +---------+           +----------------------+   \n"
     ]
    }
   ],
   "source": [
    "graph.get_graph().print_ascii()"
   ]
  },
  {
   "cell_type": "code",
   "execution_count": 25,
   "metadata": {},
   "outputs": [
    {
     "name": "stdout",
     "output_type": "stream",
     "text": [
      "---\n",
      "config:\n",
      "  flowchart:\n",
      "    curve: linear\n",
      "---\n",
      "graph TD;\n",
      "\t__start__([<p>__start__</p>]):::first\n",
      "\tdata_acquisition_agent(data_acquisition_agent)\n",
      "\tdata_acquisition_tool(data_acquisition_tool)\n",
      "\tpython_analysis_agent(python_analysis_agent)\n",
      "\tpython_analysis_tool(python_analysis_tool)\n",
      "\t__end__([<p>__end__</p>]):::last\n",
      "\t__start__ --> data_acquisition_agent;\n",
      "\tdata_acquisition_agent -.-> data_acquisition_tool;\n",
      "\tdata_acquisition_agent -.-> python_analysis_agent;\n",
      "\tdata_acquisition_tool --> data_acquisition_agent;\n",
      "\tpython_analysis_agent -.-> __end__;\n",
      "\tpython_analysis_agent -.-> python_analysis_tool;\n",
      "\tpython_analysis_tool --> python_analysis_agent;\n",
      "\tclassDef default fill:#f2f0ff,line-height:1.2\n",
      "\tclassDef first fill-opacity:0\n",
      "\tclassDef last fill:#bfb6fc\n",
      "\n"
     ]
    }
   ],
   "source": [
    "print(graph.get_graph().draw_mermaid())"
   ]
  },
  {
   "cell_type": "code",
   "execution_count": 26,
   "metadata": {},
   "outputs": [
    {
     "name": "stdout",
     "output_type": "stream",
     "text": [
      "================================\u001b[1m Human Message \u001b[0m=================================\n",
      "\n",
      "First, Let get the top performance stock data\n",
      "==================================\u001b[1m Ai Message \u001b[0m==================================\n",
      "Tool Calls:\n",
      "  get_top_nasdaq_performance_stock_data (call_0_3b750c42-3952-4dae-9ffc-2fd91b3705f4)\n",
      " Call ID: call_0_3b750c42-3952-4dae-9ffc-2fd91b3705f4\n",
      "  Args:\n"
     ]
    },
    {
     "name": "stderr",
     "output_type": "stream",
     "text": [
      "100%|██████████| 101/101 [00:02<00:00, 38.52it/s]\n"
     ]
    },
    {
     "name": "stdout",
     "output_type": "stream",
     "text": [
      "=================================\u001b[1m Tool Message \u001b[0m=================================\n",
      "Name: get_top_nasdaq_performance_stock_data\n",
      "\n",
      "{\n",
      "    \"symbol\": \"MNST\",\n",
      "    \"percentage_increased\": 3.7238540649033007,\n",
      "    \"sample_data_in_markdown\": \"| Date                      |   Open |   High |   Low |   Close |   Volume |   Dividends |   Stock Splits |\\n|:--------------------------|-------:|-------:|------:|--------:|---------:|------------:|---------------:|\\n| 2025-04-28 00:00:00-04:00 |  58.74 |  58.98 | 58.03 |   58.49 |  3057100 |           0 |              0 |\\n| 2025-04-29 00:00:00-04:00 |  58.59 |  59.33 | 58.01 |   59.25 |  3448100 |           0 |              0 |\\n| 2025-04-30 00:00:00-04:00 |  59.59 |  60.29 | 58.8  |   60.12 |  5228700 |           0 |              0 |\\n| 2025-05-01 00:00:00-04:00 |  59.86 |  60.03 | 59.3  |   59.52 |  5164900 |           0 |              0 |\\n| 2025-05-02 00:00:00-04:00 |  59.87 |  60.26 | 59.43 |   60.05 |  4161600 |           0 |              0 |\",\n",
      "    \"data_csv_path\": \"/Volumes/mnt/Workspace/stock-analysis-agent-langgraph/data/mnst_performance_in_the_past_10_days.csv\",\n",
      "    \"pandas_dataframe_info\": \"<class 'pandas.core.frame.DataFrame'>\\nRangeIndex: 10 entries, 0 to 9\\nData columns (total 8 columns):\\n #   Column        Non-Null Count  Dtype                           \\n---  ------        --------------  -----                           \\n 0   Date          10 non-null     datetime64[ns, America/New_York]\\n 1   Open          10 non-null     float64                         \\n 2   High          10 non-null     float64                         \\n 3   Low           10 non-null     float64                         \\n 4   Close         10 non-null     float64                         \\n 5   Volume        10 non-null     int64                           \\n 6   Dividends     10 non-null     float64                         \\n 7   Stock Splits  10 non-null     float64                         \\ndtypes: datetime64[ns, America/New_York](1), float64(6), int64(1)\\nmemory usage: 768.0 bytes\\n\"\n",
      "}\n",
      "==================================\u001b[1m Ai Message \u001b[0m==================================\n",
      "\n",
      "Here is the top-performing NASDAQ stock for today:\n",
      "\n",
      "- **Symbol**: MNST\n",
      "- **Percentage Increased**: 3.72%\n",
      "\n",
      "### Sample Data (Last 5 Days):\n",
      "| Date                      |   Open |   High |   Low |   Close |   Volume |   Dividends |   Stock Splits |\n",
      "|:--------------------------|-------:|-------:|------:|--------:|---------:|------------:|---------------:|\n",
      "| 2025-04-28 00:00:00-04:00 |  58.74 |  58.98 | 58.03 |   58.49 |  3057100 |           0 |              0 |\n",
      "| 2025-04-29 00:00:00-04:00 |  58.59 |  59.33 | 58.01 |   59.25 |  3448100 |           0 |              0 |\n",
      "| 2025-04-30 00:00:00-04:00 |  59.59 |  60.29 | 58.8  |   60.12 |  5228700 |           0 |              0 |\n",
      "| 2025-05-01 00:00:00-04:00 |  59.86 |  60.03 | 59.3  |   59.52 |  5164900 |           0 |              0 |\n",
      "| 2025-05-02 00:00:00-04:00 |  59.87 |  60.26 | 59.43 |   60.05 |  4161600 |           0 |              0 |\n",
      "\n",
      "### Data Information:\n",
      "- The data is stored in a CSV file at: `/Volumes/mnt/Workspace/stock-analysis-agent-langgraph/data/mnst_performance_in_the_past_10_days.csv`\n",
      "- **Pandas DataFrame Info**:\n",
      "  - 10 entries, 8 columns\n",
      "  - Columns include Date, Open, High, Low, Close, Volume, Dividends, and Stock Splits.\n",
      "\n",
      "Let me know if you'd like to analyze this data further or perform any specific operations!\n",
      "messages [HumanMessage(content='First, Let get the top performance stock data', additional_kwargs={}, response_metadata={}, id='b373053e-6578-4ddb-a850-61f6d0dbdfd5'), AIMessage(content='', additional_kwargs={'tool_calls': [{'id': 'call_0_3b750c42-3952-4dae-9ffc-2fd91b3705f4', 'function': {'arguments': '{}', 'name': 'get_top_nasdaq_performance_stock_data'}, 'type': 'function', 'index': 0}], 'refusal': None}, response_metadata={'token_usage': {'completion_tokens': 22, 'prompt_tokens': 144, 'total_tokens': 166, 'completion_tokens_details': None, 'prompt_tokens_details': {'audio_tokens': None, 'cached_tokens': 128}, 'prompt_cache_hit_tokens': 128, 'prompt_cache_miss_tokens': 16}, 'model_name': 'deepseek-chat', 'system_fingerprint': 'fp_8802369eaa_prod0425fp8', 'id': 'fabf9322-173a-45a9-874a-4ce1871361ca', 'service_tier': None, 'finish_reason': 'tool_calls', 'logprobs': None}, id='run--8452d421-d950-4b1e-b1bd-e1393a0cfce1-0', tool_calls=[{'name': 'get_top_nasdaq_performance_stock_data', 'args': {}, 'id': 'call_0_3b750c42-3952-4dae-9ffc-2fd91b3705f4', 'type': 'tool_call'}], usage_metadata={'input_tokens': 144, 'output_tokens': 22, 'total_tokens': 166, 'input_token_details': {'cache_read': 128}, 'output_token_details': {}}), ToolMessage(content='{\\n    \"symbol\": \"MNST\",\\n    \"percentage_increased\": 3.7238540649033007,\\n    \"sample_data_in_markdown\": \"| Date                      |   Open |   High |   Low |   Close |   Volume |   Dividends |   Stock Splits |\\\\n|:--------------------------|-------:|-------:|------:|--------:|---------:|------------:|---------------:|\\\\n| 2025-04-28 00:00:00-04:00 |  58.74 |  58.98 | 58.03 |   58.49 |  3057100 |           0 |              0 |\\\\n| 2025-04-29 00:00:00-04:00 |  58.59 |  59.33 | 58.01 |   59.25 |  3448100 |           0 |              0 |\\\\n| 2025-04-30 00:00:00-04:00 |  59.59 |  60.29 | 58.8  |   60.12 |  5228700 |           0 |              0 |\\\\n| 2025-05-01 00:00:00-04:00 |  59.86 |  60.03 | 59.3  |   59.52 |  5164900 |           0 |              0 |\\\\n| 2025-05-02 00:00:00-04:00 |  59.87 |  60.26 | 59.43 |   60.05 |  4161600 |           0 |              0 |\",\\n    \"data_csv_path\": \"/Volumes/mnt/Workspace/stock-analysis-agent-langgraph/data/mnst_performance_in_the_past_10_days.csv\",\\n    \"pandas_dataframe_info\": \"<class \\'pandas.core.frame.DataFrame\\'>\\\\nRangeIndex: 10 entries, 0 to 9\\\\nData columns (total 8 columns):\\\\n #   Column        Non-Null Count  Dtype                           \\\\n---  ------        --------------  -----                           \\\\n 0   Date          10 non-null     datetime64[ns, America/New_York]\\\\n 1   Open          10 non-null     float64                         \\\\n 2   High          10 non-null     float64                         \\\\n 3   Low           10 non-null     float64                         \\\\n 4   Close         10 non-null     float64                         \\\\n 5   Volume        10 non-null     int64                           \\\\n 6   Dividends     10 non-null     float64                         \\\\n 7   Stock Splits  10 non-null     float64                         \\\\ndtypes: datetime64[ns, America/New_York](1), float64(6), int64(1)\\\\nmemory usage: 768.0 bytes\\\\n\"\\n}', name='get_top_nasdaq_performance_stock_data', id='0ff3ec15-ee86-45bc-bd62-fa9efa4a3081', tool_call_id='call_0_3b750c42-3952-4dae-9ffc-2fd91b3705f4'), AIMessage(content=\"Here is the top-performing NASDAQ stock for today:\\n\\n- **Symbol**: MNST\\n- **Percentage Increased**: 3.72%\\n\\n### Sample Data (Last 5 Days):\\n| Date                      |   Open |   High |   Low |   Close |   Volume |   Dividends |   Stock Splits |\\n|:--------------------------|-------:|-------:|------:|--------:|---------:|------------:|---------------:|\\n| 2025-04-28 00:00:00-04:00 |  58.74 |  58.98 | 58.03 |   58.49 |  3057100 |           0 |              0 |\\n| 2025-04-29 00:00:00-04:00 |  58.59 |  59.33 | 58.01 |   59.25 |  3448100 |           0 |              0 |\\n| 2025-04-30 00:00:00-04:00 |  59.59 |  60.29 | 58.8  |   60.12 |  5228700 |           0 |              0 |\\n| 2025-05-01 00:00:00-04:00 |  59.86 |  60.03 | 59.3  |   59.52 |  5164900 |           0 |              0 |\\n| 2025-05-02 00:00:00-04:00 |  59.87 |  60.26 | 59.43 |   60.05 |  4161600 |           0 |              0 |\\n\\n### Data Information:\\n- The data is stored in a CSV file at: `/Volumes/mnt/Workspace/stock-analysis-agent-langgraph/data/mnst_performance_in_the_past_10_days.csv`\\n- **Pandas DataFrame Info**:\\n  - 10 entries, 8 columns\\n  - Columns include Date, Open, High, Low, Close, Volume, Dividends, and Stock Splits.\\n\\nLet me know if you'd like to analyze this data further or perform any specific operations!\", additional_kwargs={'refusal': None}, response_metadata={'token_usage': {'completion_tokens': 443, 'prompt_tokens': 789, 'total_tokens': 1232, 'completion_tokens_details': None, 'prompt_tokens_details': {'audio_tokens': None, 'cached_tokens': 768}, 'prompt_cache_hit_tokens': 768, 'prompt_cache_miss_tokens': 21}, 'model_name': 'deepseek-chat', 'system_fingerprint': 'fp_8802369eaa_prod0425fp8', 'id': '21328608-4596-4586-a1ea-109438e42b37', 'service_tier': None, 'finish_reason': 'stop', 'logprobs': None}, id='run--246c3000-e0e6-41c1-9aa7-0087ec02ba35-0', usage_metadata={'input_tokens': 789, 'output_tokens': 443, 'total_tokens': 1232, 'input_token_details': {'cache_read': 768}, 'output_token_details': {}})]\n"
     ]
    },
    {
     "name": "stderr",
     "output_type": "stream",
     "text": [
      "Python REPL can execute arbitrary code. Use with caution.\n"
     ]
    },
    {
     "name": "stdout",
     "output_type": "stream",
     "text": [
      "==================================\u001b[1m Ai Message \u001b[0m==================================\n",
      "Tool Calls:\n",
      "  python_repl_tool (call_0_e919c807-b3ed-4c2e-81d8-65e30ad55813)\n",
      " Call ID: call_0_e919c807-b3ed-4c2e-81d8-65e30ad55813\n",
      "  Args:\n",
      "    code: import pandas as pd\n",
      "\n",
      "# Load the data from the CSV file\n",
      "data_path = \"/Volumes/mnt/Workspace/stock-analysis-agent-langgraph/data/mnst_performance_in_the_past_10_days.csv\"\n",
      "df = pd.read_csv(data_path)\n",
      "\n",
      "# Display the first few rows of the dataframe\n",
      "print(\"First 5 rows of the data:\")\n",
      "print(df.head())\n",
      "\n",
      "# Check for missing values\n",
      "print(\"\\nMissing values in the data:\")\n",
      "print(df.isnull().sum())\n",
      "\n",
      "# Ensure proper data types\n",
      "print(\"\\nData types:\")\n",
      "print(df.dtypes)\n",
      "Executing codes:import pandas as pd\n",
      "\n",
      "# Load the data from the CSV file\n",
      "data_path = \"/Volumes/mnt/Workspace/stock-analysis-agent-langgraph/data/mnst_performance_in_the_past_10_days.csv\"\n",
      "df = pd.read_csv(data_path)\n",
      "\n",
      "# Display the first few rows of the dataframe\n",
      "print(\"First 5 rows of the data:\")\n",
      "print(df.head())\n",
      "\n",
      "# Check for missing values\n",
      "print(\"\\nMissing values in the data:\")\n",
      "print(df.isnull().sum())\n",
      "\n",
      "# Ensure proper data types\n",
      "print(\"\\nData types:\")\n",
      "print(df.dtypes)\n",
      "=================================\u001b[1m Tool Message \u001b[0m=================================\n",
      "Name: python_repl_tool\n",
      "\n",
      "Successfully executed:\n",
      "```python\n",
      "import pandas as pd\n",
      "\n",
      "# Load the data from the CSV file\n",
      "data_path = \"/Volumes/mnt/Workspace/stock-analysis-agent-langgraph/data/mnst_performance_in_the_past_10_days.csv\"\n",
      "df = pd.read_csv(data_path)\n",
      "\n",
      "# Display the first few rows of the dataframe\n",
      "print(\"First 5 rows of the data:\")\n",
      "print(df.head())\n",
      "\n",
      "# Check for missing values\n",
      "print(\"\\nMissing values in the data:\")\n",
      "print(df.isnull().sum())\n",
      "\n",
      "# Ensure proper data types\n",
      "print(\"\\nData types:\")\n",
      "print(df.dtypes)\n",
      "```\n",
      "Stdout: First 5 rows of the data:\n",
      "                        Date       Open       High        Low      Close  \\\n",
      "0  2025-04-28 00:00:00-04:00  58.740002  58.980000  58.029999  58.490002   \n",
      "1  2025-04-29 00:00:00-04:00  58.590000  59.330002  58.009998  59.250000   \n",
      "2  2025-04-30 00:00:00-04:00  59.590000  60.290001  58.799999  60.119999   \n",
      "3  2025-05-01 00:00:00-04:00  59.860001  60.029999  59.299999  59.520000   \n",
      "4  2025-05-02 00:00:00-04:00  59.869999  60.259998  59.430000  60.049999   \n",
      "\n",
      "    Volume  Dividends  Stock Splits  \n",
      "0  3057100        0.0           0.0  \n",
      "1  3448100        0.0           0.0  \n",
      "2  5228700        0.0           0.0  \n",
      "3  5164900        0.0           0.0  \n",
      "4  4161600        0.0           0.0  \n",
      "\n",
      "Missing values in the data:\n",
      "Date            0\n",
      "Open            0\n",
      "High            0\n",
      "Low             0\n",
      "Close           0\n",
      "Volume          0\n",
      "Dividends       0\n",
      "Stock Splits    0\n",
      "dtype: int64\n",
      "\n",
      "Data types:\n",
      "Date             object\n",
      "Open            float64\n",
      "High            float64\n",
      "Low             float64\n",
      "Close           float64\n",
      "Volume            int64\n",
      "Dividends       float64\n",
      "Stock Splits    float64\n",
      "dtype: object\n",
      "\n",
      "messages [HumanMessage(content='First, Let get the top performance stock data', additional_kwargs={}, response_metadata={}, id='b373053e-6578-4ddb-a850-61f6d0dbdfd5'), AIMessage(content='', additional_kwargs={'tool_calls': [{'id': 'call_0_3b750c42-3952-4dae-9ffc-2fd91b3705f4', 'function': {'arguments': '{}', 'name': 'get_top_nasdaq_performance_stock_data'}, 'type': 'function', 'index': 0}], 'refusal': None}, response_metadata={'token_usage': {'completion_tokens': 22, 'prompt_tokens': 144, 'total_tokens': 166, 'completion_tokens_details': None, 'prompt_tokens_details': {'audio_tokens': None, 'cached_tokens': 128}, 'prompt_cache_hit_tokens': 128, 'prompt_cache_miss_tokens': 16}, 'model_name': 'deepseek-chat', 'system_fingerprint': 'fp_8802369eaa_prod0425fp8', 'id': 'fabf9322-173a-45a9-874a-4ce1871361ca', 'service_tier': None, 'finish_reason': 'tool_calls', 'logprobs': None}, id='run--8452d421-d950-4b1e-b1bd-e1393a0cfce1-0', tool_calls=[{'name': 'get_top_nasdaq_performance_stock_data', 'args': {}, 'id': 'call_0_3b750c42-3952-4dae-9ffc-2fd91b3705f4', 'type': 'tool_call'}], usage_metadata={'input_tokens': 144, 'output_tokens': 22, 'total_tokens': 166, 'input_token_details': {'cache_read': 128}, 'output_token_details': {}}), ToolMessage(content='{\\n    \"symbol\": \"MNST\",\\n    \"percentage_increased\": 3.7238540649033007,\\n    \"sample_data_in_markdown\": \"| Date                      |   Open |   High |   Low |   Close |   Volume |   Dividends |   Stock Splits |\\\\n|:--------------------------|-------:|-------:|------:|--------:|---------:|------------:|---------------:|\\\\n| 2025-04-28 00:00:00-04:00 |  58.74 |  58.98 | 58.03 |   58.49 |  3057100 |           0 |              0 |\\\\n| 2025-04-29 00:00:00-04:00 |  58.59 |  59.33 | 58.01 |   59.25 |  3448100 |           0 |              0 |\\\\n| 2025-04-30 00:00:00-04:00 |  59.59 |  60.29 | 58.8  |   60.12 |  5228700 |           0 |              0 |\\\\n| 2025-05-01 00:00:00-04:00 |  59.86 |  60.03 | 59.3  |   59.52 |  5164900 |           0 |              0 |\\\\n| 2025-05-02 00:00:00-04:00 |  59.87 |  60.26 | 59.43 |   60.05 |  4161600 |           0 |              0 |\",\\n    \"data_csv_path\": \"/Volumes/mnt/Workspace/stock-analysis-agent-langgraph/data/mnst_performance_in_the_past_10_days.csv\",\\n    \"pandas_dataframe_info\": \"<class \\'pandas.core.frame.DataFrame\\'>\\\\nRangeIndex: 10 entries, 0 to 9\\\\nData columns (total 8 columns):\\\\n #   Column        Non-Null Count  Dtype                           \\\\n---  ------        --------------  -----                           \\\\n 0   Date          10 non-null     datetime64[ns, America/New_York]\\\\n 1   Open          10 non-null     float64                         \\\\n 2   High          10 non-null     float64                         \\\\n 3   Low           10 non-null     float64                         \\\\n 4   Close         10 non-null     float64                         \\\\n 5   Volume        10 non-null     int64                           \\\\n 6   Dividends     10 non-null     float64                         \\\\n 7   Stock Splits  10 non-null     float64                         \\\\ndtypes: datetime64[ns, America/New_York](1), float64(6), int64(1)\\\\nmemory usage: 768.0 bytes\\\\n\"\\n}', name='get_top_nasdaq_performance_stock_data', id='0ff3ec15-ee86-45bc-bd62-fa9efa4a3081', tool_call_id='call_0_3b750c42-3952-4dae-9ffc-2fd91b3705f4'), AIMessage(content=\"Here is the top-performing NASDAQ stock for today:\\n\\n- **Symbol**: MNST\\n- **Percentage Increased**: 3.72%\\n\\n### Sample Data (Last 5 Days):\\n| Date                      |   Open |   High |   Low |   Close |   Volume |   Dividends |   Stock Splits |\\n|:--------------------------|-------:|-------:|------:|--------:|---------:|------------:|---------------:|\\n| 2025-04-28 00:00:00-04:00 |  58.74 |  58.98 | 58.03 |   58.49 |  3057100 |           0 |              0 |\\n| 2025-04-29 00:00:00-04:00 |  58.59 |  59.33 | 58.01 |   59.25 |  3448100 |           0 |              0 |\\n| 2025-04-30 00:00:00-04:00 |  59.59 |  60.29 | 58.8  |   60.12 |  5228700 |           0 |              0 |\\n| 2025-05-01 00:00:00-04:00 |  59.86 |  60.03 | 59.3  |   59.52 |  5164900 |           0 |              0 |\\n| 2025-05-02 00:00:00-04:00 |  59.87 |  60.26 | 59.43 |   60.05 |  4161600 |           0 |              0 |\\n\\n### Data Information:\\n- The data is stored in a CSV file at: `/Volumes/mnt/Workspace/stock-analysis-agent-langgraph/data/mnst_performance_in_the_past_10_days.csv`\\n- **Pandas DataFrame Info**:\\n  - 10 entries, 8 columns\\n  - Columns include Date, Open, High, Low, Close, Volume, Dividends, and Stock Splits.\\n\\nLet me know if you'd like to analyze this data further or perform any specific operations!\", additional_kwargs={'refusal': None}, response_metadata={'token_usage': {'completion_tokens': 443, 'prompt_tokens': 789, 'total_tokens': 1232, 'completion_tokens_details': None, 'prompt_tokens_details': {'audio_tokens': None, 'cached_tokens': 768}, 'prompt_cache_hit_tokens': 768, 'prompt_cache_miss_tokens': 21}, 'model_name': 'deepseek-chat', 'system_fingerprint': 'fp_8802369eaa_prod0425fp8', 'id': '21328608-4596-4586-a1ea-109438e42b37', 'service_tier': None, 'finish_reason': 'stop', 'logprobs': None}, id='run--246c3000-e0e6-41c1-9aa7-0087ec02ba35-0', usage_metadata={'input_tokens': 789, 'output_tokens': 443, 'total_tokens': 1232, 'input_token_details': {'cache_read': 768}, 'output_token_details': {}}), AIMessage(content='', additional_kwargs={'tool_calls': [{'id': 'call_0_e919c807-b3ed-4c2e-81d8-65e30ad55813', 'function': {'arguments': '{\"code\":\"import pandas as pd\\\\n\\\\n# Load the data from the CSV file\\\\ndata_path = \\\\\"/Volumes/mnt/Workspace/stock-analysis-agent-langgraph/data/mnst_performance_in_the_past_10_days.csv\\\\\"\\\\ndf = pd.read_csv(data_path)\\\\n\\\\n# Display the first few rows of the dataframe\\\\nprint(\\\\\"First 5 rows of the data:\\\\\")\\\\nprint(df.head())\\\\n\\\\n# Check for missing values\\\\nprint(\\\\\"\\\\\\\\nMissing values in the data:\\\\\")\\\\nprint(df.isnull().sum())\\\\n\\\\n# Ensure proper data types\\\\nprint(\\\\\"\\\\\\\\nData types:\\\\\")\\\\nprint(df.dtypes)\"}', 'name': 'python_repl_tool'}, 'type': 'function', 'index': 0}], 'refusal': None}, response_metadata={'token_usage': {'completion_tokens': 166, 'prompt_tokens': 1601, 'total_tokens': 1767, 'completion_tokens_details': None, 'prompt_tokens_details': {'audio_tokens': None, 'cached_tokens': 1536}, 'prompt_cache_hit_tokens': 1536, 'prompt_cache_miss_tokens': 65}, 'model_name': 'deepseek-chat', 'system_fingerprint': 'fp_8802369eaa_prod0425fp8', 'id': '4a6201af-88d3-44ad-ad56-1b87c948722e', 'service_tier': None, 'finish_reason': 'tool_calls', 'logprobs': None}, id='run--33d55c07-e3a3-453f-8ee3-509543ba911a-0', tool_calls=[{'name': 'python_repl_tool', 'args': {'code': 'import pandas as pd\\n\\n# Load the data from the CSV file\\ndata_path = \"/Volumes/mnt/Workspace/stock-analysis-agent-langgraph/data/mnst_performance_in_the_past_10_days.csv\"\\ndf = pd.read_csv(data_path)\\n\\n# Display the first few rows of the dataframe\\nprint(\"First 5 rows of the data:\")\\nprint(df.head())\\n\\n# Check for missing values\\nprint(\"\\\\nMissing values in the data:\")\\nprint(df.isnull().sum())\\n\\n# Ensure proper data types\\nprint(\"\\\\nData types:\")\\nprint(df.dtypes)'}, 'id': 'call_0_e919c807-b3ed-4c2e-81d8-65e30ad55813', 'type': 'tool_call'}], usage_metadata={'input_tokens': 1601, 'output_tokens': 166, 'total_tokens': 1767, 'input_token_details': {'cache_read': 1536}, 'output_token_details': {}}), ToolMessage(content='Successfully executed:\\n```python\\nimport pandas as pd\\n\\n# Load the data from the CSV file\\ndata_path = \"/Volumes/mnt/Workspace/stock-analysis-agent-langgraph/data/mnst_performance_in_the_past_10_days.csv\"\\ndf = pd.read_csv(data_path)\\n\\n# Display the first few rows of the dataframe\\nprint(\"First 5 rows of the data:\")\\nprint(df.head())\\n\\n# Check for missing values\\nprint(\"\\\\nMissing values in the data:\")\\nprint(df.isnull().sum())\\n\\n# Ensure proper data types\\nprint(\"\\\\nData types:\")\\nprint(df.dtypes)\\n```\\nStdout: First 5 rows of the data:\\n                        Date       Open       High        Low      Close  \\\\\\n0  2025-04-28 00:00:00-04:00  58.740002  58.980000  58.029999  58.490002   \\n1  2025-04-29 00:00:00-04:00  58.590000  59.330002  58.009998  59.250000   \\n2  2025-04-30 00:00:00-04:00  59.590000  60.290001  58.799999  60.119999   \\n3  2025-05-01 00:00:00-04:00  59.860001  60.029999  59.299999  59.520000   \\n4  2025-05-02 00:00:00-04:00  59.869999  60.259998  59.430000  60.049999   \\n\\n    Volume  Dividends  Stock Splits  \\n0  3057100        0.0           0.0  \\n1  3448100        0.0           0.0  \\n2  5228700        0.0           0.0  \\n3  5164900        0.0           0.0  \\n4  4161600        0.0           0.0  \\n\\nMissing values in the data:\\nDate            0\\nOpen            0\\nHigh            0\\nLow             0\\nClose           0\\nVolume          0\\nDividends       0\\nStock Splits    0\\ndtype: int64\\n\\nData types:\\nDate             object\\nOpen            float64\\nHigh            float64\\nLow             float64\\nClose           float64\\nVolume            int64\\nDividends       float64\\nStock Splits    float64\\ndtype: object\\n', name='python_repl_tool', id='31ef1c47-7975-4149-897b-f1a882582d5b', tool_call_id='call_0_e919c807-b3ed-4c2e-81d8-65e30ad55813')]\n",
      "==================================\u001b[1m Ai Message \u001b[0m==================================\n",
      "\n",
      "The data has been successfully loaded and prepared for analysis. Here's a summary of the initial steps:\n",
      "\n",
      "1. **Data Loading**:\n",
      "   - The CSV file was read into a pandas DataFrame.\n",
      "   - The first 5 rows of the data are displayed above.\n",
      "\n",
      "2. **Missing Values**:\n",
      "   - There are no missing values in any of the columns.\n",
      "\n",
      "3. **Data Types**:\n",
      "   - The `Date` column is currently stored as an object (string). We will convert it to a datetime format for better analysis.\n",
      "   - All other columns (`Open`, `High`, `Low`, `Close`, `Volume`, `Dividends`, `Stock Splits`) have appropriate numeric data types.\n",
      "\n",
      "Next, I will proceed with the technical analysis, including calculating moving averages, daily returns, and other metrics. Let me know if you'd like to focus on any specific aspect!\n",
      "Tool Calls:\n",
      "  python_repl_tool (call_0_7ab774d6-94b6-41f9-ab80-676cf874f1f2)\n",
      " Call ID: call_0_7ab774d6-94b6-41f9-ab80-676cf874f1f2\n",
      "  Args:\n",
      "    code: import pandas as pd\n",
      "\n",
      "# Load the data from the CSV file\n",
      "data_path = \"/Volumes/mnt/Workspace/stock-analysis-agent-langgraph/data/mnst_performance_in_the_past_10_days.csv\"\n",
      "df = pd.read_csv(data_path)\n",
      "\n",
      "# Convert 'Date' to datetime\n",
      "df['Date'] = pd.to_datetime(df['Date'])\n",
      "\n",
      "# Sort the data by date\n",
      "df = df.sort_values('Date')\n",
      "\n",
      "# Calculate 5-day and 10-day moving averages for 'Close' price\n",
      "df['5_day_MA'] = df['Close'].rolling(window=5).mean()\n",
      "df['10_day_MA'] = df['Close'].rolling(window=10).mean()\n",
      "\n",
      "# Calculate daily returns\n",
      "df['Daily_Return'] = df['Close'].pct_change() * 100\n",
      "\n",
      "# Calculate cumulative returns\n",
      "df['Cumulative_Return'] = (1 + df['Daily_Return'] / 100).cumprod() - 1\n",
      "\n",
      "# Calculate trading volume trends (rolling 5-day average)\n",
      "df['5_day_Volume_MA'] = df['Volume'].rolling(window=5).mean()\n",
      "\n",
      "# Calculate price momentum (difference between current close and close 5 days ago)\n",
      "df['Price_Momentum'] = df['Close'] - df['Close'].shift(5)\n",
      "\n",
      "# Display the results\n",
      "print(\"Technical Analysis Results:\")\n",
      "print(df[['Date', 'Close', '5_day_MA', '10_day_MA', 'Daily_Return', 'Cumulative_Return', '5_day_Volume_MA', 'Price_Momentum']].tail())\n",
      "Executing codes:import pandas as pd\n",
      "\n",
      "# Load the data from the CSV file\n",
      "data_path = \"/Volumes/mnt/Workspace/stock-analysis-agent-langgraph/data/mnst_performance_in_the_past_10_days.csv\"\n",
      "df = pd.read_csv(data_path)\n",
      "\n",
      "# Convert 'Date' to datetime\n",
      "df['Date'] = pd.to_datetime(df['Date'])\n",
      "\n",
      "# Sort the data by date\n",
      "df = df.sort_values('Date')\n",
      "\n",
      "# Calculate 5-day and 10-day moving averages for 'Close' price\n",
      "df['5_day_MA'] = df['Close'].rolling(window=5).mean()\n",
      "df['10_day_MA'] = df['Close'].rolling(window=10).mean()\n",
      "\n",
      "# Calculate daily returns\n",
      "df['Daily_Return'] = df['Close'].pct_change() * 100\n",
      "\n",
      "# Calculate cumulative returns\n",
      "df['Cumulative_Return'] = (1 + df['Daily_Return'] / 100).cumprod() - 1\n",
      "\n",
      "# Calculate trading volume trends (rolling 5-day average)\n",
      "df['5_day_Volume_MA'] = df['Volume'].rolling(window=5).mean()\n",
      "\n",
      "# Calculate price momentum (difference between current close and close 5 days ago)\n",
      "df['Price_Momentum'] = df['Close'] - df['Close'].shift(5)\n",
      "\n",
      "# Display the results\n",
      "print(\"Technical Analysis Results:\")\n",
      "print(df[['Date', 'Close', '5_day_MA', '10_day_MA', 'Daily_Return', 'Cumulative_Return', '5_day_Volume_MA', 'Price_Momentum']].tail())\n",
      "=================================\u001b[1m Tool Message \u001b[0m=================================\n",
      "Name: python_repl_tool\n",
      "\n",
      "Successfully executed:\n",
      "```python\n",
      "import pandas as pd\n",
      "\n",
      "# Load the data from the CSV file\n",
      "data_path = \"/Volumes/mnt/Workspace/stock-analysis-agent-langgraph/data/mnst_performance_in_the_past_10_days.csv\"\n",
      "df = pd.read_csv(data_path)\n",
      "\n",
      "# Convert 'Date' to datetime\n",
      "df['Date'] = pd.to_datetime(df['Date'])\n",
      "\n",
      "# Sort the data by date\n",
      "df = df.sort_values('Date')\n",
      "\n",
      "# Calculate 5-day and 10-day moving averages for 'Close' price\n",
      "df['5_day_MA'] = df['Close'].rolling(window=5).mean()\n",
      "df['10_day_MA'] = df['Close'].rolling(window=10).mean()\n",
      "\n",
      "# Calculate daily returns\n",
      "df['Daily_Return'] = df['Close'].pct_change() * 100\n",
      "\n",
      "# Calculate cumulative returns\n",
      "df['Cumulative_Return'] = (1 + df['Daily_Return'] / 100).cumprod() - 1\n",
      "\n",
      "# Calculate trading volume trends (rolling 5-day average)\n",
      "df['5_day_Volume_MA'] = df['Volume'].rolling(window=5).mean()\n",
      "\n",
      "# Calculate price momentum (difference between current close and close 5 days ago)\n",
      "df['Price_Momentum'] = df['Close'] - df['Close'].shift(5)\n",
      "\n",
      "# Display the results\n",
      "print(\"Technical Analysis Results:\")\n",
      "print(df[['Date', 'Close', '5_day_MA', '10_day_MA', 'Daily_Return', 'Cumulative_Return', '5_day_Volume_MA', 'Price_Momentum']].tail())\n",
      "```\n",
      "Stdout: Technical Analysis Results:\n",
      "                       Date      Close  5_day_MA  10_day_MA  Daily_Return  \\\n",
      "5 2025-05-05 00:00:00-04:00  60.910000    59.970        NaN      1.432141   \n",
      "6 2025-05-06 00:00:00-04:00  60.020000    60.124        NaN     -1.461171   \n",
      "7 2025-05-07 00:00:00-04:00  60.560001    60.212        NaN      0.899702   \n",
      "8 2025-05-08 00:00:00-04:00  60.139999    60.336        NaN     -0.693530   \n",
      "9 2025-05-09 00:00:00-04:00  61.000000    60.526     60.006      1.429998   \n",
      "\n",
      "   Cumulative_Return  5_day_Volume_MA  Price_Momentum  \n",
      "5           0.041375        4522520.0        2.419998  \n",
      "6           0.026158        4884520.0        0.770000  \n",
      "7           0.035391        4612960.0        0.440002  \n",
      "8           0.028210        4796760.0        0.619999  \n",
      "9           0.042913        5695320.0        0.950001  \n",
      "\n",
      "messages [HumanMessage(content='First, Let get the top performance stock data', additional_kwargs={}, response_metadata={}, id='b373053e-6578-4ddb-a850-61f6d0dbdfd5'), AIMessage(content='', additional_kwargs={'tool_calls': [{'id': 'call_0_3b750c42-3952-4dae-9ffc-2fd91b3705f4', 'function': {'arguments': '{}', 'name': 'get_top_nasdaq_performance_stock_data'}, 'type': 'function', 'index': 0}], 'refusal': None}, response_metadata={'token_usage': {'completion_tokens': 22, 'prompt_tokens': 144, 'total_tokens': 166, 'completion_tokens_details': None, 'prompt_tokens_details': {'audio_tokens': None, 'cached_tokens': 128}, 'prompt_cache_hit_tokens': 128, 'prompt_cache_miss_tokens': 16}, 'model_name': 'deepseek-chat', 'system_fingerprint': 'fp_8802369eaa_prod0425fp8', 'id': 'fabf9322-173a-45a9-874a-4ce1871361ca', 'service_tier': None, 'finish_reason': 'tool_calls', 'logprobs': None}, id='run--8452d421-d950-4b1e-b1bd-e1393a0cfce1-0', tool_calls=[{'name': 'get_top_nasdaq_performance_stock_data', 'args': {}, 'id': 'call_0_3b750c42-3952-4dae-9ffc-2fd91b3705f4', 'type': 'tool_call'}], usage_metadata={'input_tokens': 144, 'output_tokens': 22, 'total_tokens': 166, 'input_token_details': {'cache_read': 128}, 'output_token_details': {}}), ToolMessage(content='{\\n    \"symbol\": \"MNST\",\\n    \"percentage_increased\": 3.7238540649033007,\\n    \"sample_data_in_markdown\": \"| Date                      |   Open |   High |   Low |   Close |   Volume |   Dividends |   Stock Splits |\\\\n|:--------------------------|-------:|-------:|------:|--------:|---------:|------------:|---------------:|\\\\n| 2025-04-28 00:00:00-04:00 |  58.74 |  58.98 | 58.03 |   58.49 |  3057100 |           0 |              0 |\\\\n| 2025-04-29 00:00:00-04:00 |  58.59 |  59.33 | 58.01 |   59.25 |  3448100 |           0 |              0 |\\\\n| 2025-04-30 00:00:00-04:00 |  59.59 |  60.29 | 58.8  |   60.12 |  5228700 |           0 |              0 |\\\\n| 2025-05-01 00:00:00-04:00 |  59.86 |  60.03 | 59.3  |   59.52 |  5164900 |           0 |              0 |\\\\n| 2025-05-02 00:00:00-04:00 |  59.87 |  60.26 | 59.43 |   60.05 |  4161600 |           0 |              0 |\",\\n    \"data_csv_path\": \"/Volumes/mnt/Workspace/stock-analysis-agent-langgraph/data/mnst_performance_in_the_past_10_days.csv\",\\n    \"pandas_dataframe_info\": \"<class \\'pandas.core.frame.DataFrame\\'>\\\\nRangeIndex: 10 entries, 0 to 9\\\\nData columns (total 8 columns):\\\\n #   Column        Non-Null Count  Dtype                           \\\\n---  ------        --------------  -----                           \\\\n 0   Date          10 non-null     datetime64[ns, America/New_York]\\\\n 1   Open          10 non-null     float64                         \\\\n 2   High          10 non-null     float64                         \\\\n 3   Low           10 non-null     float64                         \\\\n 4   Close         10 non-null     float64                         \\\\n 5   Volume        10 non-null     int64                           \\\\n 6   Dividends     10 non-null     float64                         \\\\n 7   Stock Splits  10 non-null     float64                         \\\\ndtypes: datetime64[ns, America/New_York](1), float64(6), int64(1)\\\\nmemory usage: 768.0 bytes\\\\n\"\\n}', name='get_top_nasdaq_performance_stock_data', id='0ff3ec15-ee86-45bc-bd62-fa9efa4a3081', tool_call_id='call_0_3b750c42-3952-4dae-9ffc-2fd91b3705f4'), AIMessage(content=\"Here is the top-performing NASDAQ stock for today:\\n\\n- **Symbol**: MNST\\n- **Percentage Increased**: 3.72%\\n\\n### Sample Data (Last 5 Days):\\n| Date                      |   Open |   High |   Low |   Close |   Volume |   Dividends |   Stock Splits |\\n|:--------------------------|-------:|-------:|------:|--------:|---------:|------------:|---------------:|\\n| 2025-04-28 00:00:00-04:00 |  58.74 |  58.98 | 58.03 |   58.49 |  3057100 |           0 |              0 |\\n| 2025-04-29 00:00:00-04:00 |  58.59 |  59.33 | 58.01 |   59.25 |  3448100 |           0 |              0 |\\n| 2025-04-30 00:00:00-04:00 |  59.59 |  60.29 | 58.8  |   60.12 |  5228700 |           0 |              0 |\\n| 2025-05-01 00:00:00-04:00 |  59.86 |  60.03 | 59.3  |   59.52 |  5164900 |           0 |              0 |\\n| 2025-05-02 00:00:00-04:00 |  59.87 |  60.26 | 59.43 |   60.05 |  4161600 |           0 |              0 |\\n\\n### Data Information:\\n- The data is stored in a CSV file at: `/Volumes/mnt/Workspace/stock-analysis-agent-langgraph/data/mnst_performance_in_the_past_10_days.csv`\\n- **Pandas DataFrame Info**:\\n  - 10 entries, 8 columns\\n  - Columns include Date, Open, High, Low, Close, Volume, Dividends, and Stock Splits.\\n\\nLet me know if you'd like to analyze this data further or perform any specific operations!\", additional_kwargs={'refusal': None}, response_metadata={'token_usage': {'completion_tokens': 443, 'prompt_tokens': 789, 'total_tokens': 1232, 'completion_tokens_details': None, 'prompt_tokens_details': {'audio_tokens': None, 'cached_tokens': 768}, 'prompt_cache_hit_tokens': 768, 'prompt_cache_miss_tokens': 21}, 'model_name': 'deepseek-chat', 'system_fingerprint': 'fp_8802369eaa_prod0425fp8', 'id': '21328608-4596-4586-a1ea-109438e42b37', 'service_tier': None, 'finish_reason': 'stop', 'logprobs': None}, id='run--246c3000-e0e6-41c1-9aa7-0087ec02ba35-0', usage_metadata={'input_tokens': 789, 'output_tokens': 443, 'total_tokens': 1232, 'input_token_details': {'cache_read': 768}, 'output_token_details': {}}), AIMessage(content='', additional_kwargs={'tool_calls': [{'id': 'call_0_e919c807-b3ed-4c2e-81d8-65e30ad55813', 'function': {'arguments': '{\"code\":\"import pandas as pd\\\\n\\\\n# Load the data from the CSV file\\\\ndata_path = \\\\\"/Volumes/mnt/Workspace/stock-analysis-agent-langgraph/data/mnst_performance_in_the_past_10_days.csv\\\\\"\\\\ndf = pd.read_csv(data_path)\\\\n\\\\n# Display the first few rows of the dataframe\\\\nprint(\\\\\"First 5 rows of the data:\\\\\")\\\\nprint(df.head())\\\\n\\\\n# Check for missing values\\\\nprint(\\\\\"\\\\\\\\nMissing values in the data:\\\\\")\\\\nprint(df.isnull().sum())\\\\n\\\\n# Ensure proper data types\\\\nprint(\\\\\"\\\\\\\\nData types:\\\\\")\\\\nprint(df.dtypes)\"}', 'name': 'python_repl_tool'}, 'type': 'function', 'index': 0}], 'refusal': None}, response_metadata={'token_usage': {'completion_tokens': 166, 'prompt_tokens': 1601, 'total_tokens': 1767, 'completion_tokens_details': None, 'prompt_tokens_details': {'audio_tokens': None, 'cached_tokens': 1536}, 'prompt_cache_hit_tokens': 1536, 'prompt_cache_miss_tokens': 65}, 'model_name': 'deepseek-chat', 'system_fingerprint': 'fp_8802369eaa_prod0425fp8', 'id': '4a6201af-88d3-44ad-ad56-1b87c948722e', 'service_tier': None, 'finish_reason': 'tool_calls', 'logprobs': None}, id='run--33d55c07-e3a3-453f-8ee3-509543ba911a-0', tool_calls=[{'name': 'python_repl_tool', 'args': {'code': 'import pandas as pd\\n\\n# Load the data from the CSV file\\ndata_path = \"/Volumes/mnt/Workspace/stock-analysis-agent-langgraph/data/mnst_performance_in_the_past_10_days.csv\"\\ndf = pd.read_csv(data_path)\\n\\n# Display the first few rows of the dataframe\\nprint(\"First 5 rows of the data:\")\\nprint(df.head())\\n\\n# Check for missing values\\nprint(\"\\\\nMissing values in the data:\")\\nprint(df.isnull().sum())\\n\\n# Ensure proper data types\\nprint(\"\\\\nData types:\")\\nprint(df.dtypes)'}, 'id': 'call_0_e919c807-b3ed-4c2e-81d8-65e30ad55813', 'type': 'tool_call'}], usage_metadata={'input_tokens': 1601, 'output_tokens': 166, 'total_tokens': 1767, 'input_token_details': {'cache_read': 1536}, 'output_token_details': {}}), ToolMessage(content='Successfully executed:\\n```python\\nimport pandas as pd\\n\\n# Load the data from the CSV file\\ndata_path = \"/Volumes/mnt/Workspace/stock-analysis-agent-langgraph/data/mnst_performance_in_the_past_10_days.csv\"\\ndf = pd.read_csv(data_path)\\n\\n# Display the first few rows of the dataframe\\nprint(\"First 5 rows of the data:\")\\nprint(df.head())\\n\\n# Check for missing values\\nprint(\"\\\\nMissing values in the data:\")\\nprint(df.isnull().sum())\\n\\n# Ensure proper data types\\nprint(\"\\\\nData types:\")\\nprint(df.dtypes)\\n```\\nStdout: First 5 rows of the data:\\n                        Date       Open       High        Low      Close  \\\\\\n0  2025-04-28 00:00:00-04:00  58.740002  58.980000  58.029999  58.490002   \\n1  2025-04-29 00:00:00-04:00  58.590000  59.330002  58.009998  59.250000   \\n2  2025-04-30 00:00:00-04:00  59.590000  60.290001  58.799999  60.119999   \\n3  2025-05-01 00:00:00-04:00  59.860001  60.029999  59.299999  59.520000   \\n4  2025-05-02 00:00:00-04:00  59.869999  60.259998  59.430000  60.049999   \\n\\n    Volume  Dividends  Stock Splits  \\n0  3057100        0.0           0.0  \\n1  3448100        0.0           0.0  \\n2  5228700        0.0           0.0  \\n3  5164900        0.0           0.0  \\n4  4161600        0.0           0.0  \\n\\nMissing values in the data:\\nDate            0\\nOpen            0\\nHigh            0\\nLow             0\\nClose           0\\nVolume          0\\nDividends       0\\nStock Splits    0\\ndtype: int64\\n\\nData types:\\nDate             object\\nOpen            float64\\nHigh            float64\\nLow             float64\\nClose           float64\\nVolume            int64\\nDividends       float64\\nStock Splits    float64\\ndtype: object\\n', name='python_repl_tool', id='31ef1c47-7975-4149-897b-f1a882582d5b', tool_call_id='call_0_e919c807-b3ed-4c2e-81d8-65e30ad55813'), AIMessage(content=\"The data has been successfully loaded and prepared for analysis. Here's a summary of the initial steps:\\n\\n1. **Data Loading**:\\n   - The CSV file was read into a pandas DataFrame.\\n   - The first 5 rows of the data are displayed above.\\n\\n2. **Missing Values**:\\n   - There are no missing values in any of the columns.\\n\\n3. **Data Types**:\\n   - The `Date` column is currently stored as an object (string). We will convert it to a datetime format for better analysis.\\n   - All other columns (`Open`, `High`, `Low`, `Close`, `Volume`, `Dividends`, `Stock Splits`) have appropriate numeric data types.\\n\\nNext, I will proceed with the technical analysis, including calculating moving averages, daily returns, and other metrics. Let me know if you'd like to focus on any specific aspect!\", additional_kwargs={'tool_calls': [{'id': 'call_0_7ab774d6-94b6-41f9-ab80-676cf874f1f2', 'function': {'arguments': '{\"code\":\"import pandas as pd\\\\n\\\\n# Load the data from the CSV file\\\\ndata_path = \\\\\"/Volumes/mnt/Workspace/stock-analysis-agent-langgraph/data/mnst_performance_in_the_past_10_days.csv\\\\\"\\\\ndf = pd.read_csv(data_path)\\\\n\\\\n# Convert \\'Date\\' to datetime\\\\ndf[\\'Date\\'] = pd.to_datetime(df[\\'Date\\'])\\\\n\\\\n# Sort the data by date\\\\ndf = df.sort_values(\\'Date\\')\\\\n\\\\n# Calculate 5-day and 10-day moving averages for \\'Close\\' price\\\\ndf[\\'5_day_MA\\'] = df[\\'Close\\'].rolling(window=5).mean()\\\\ndf[\\'10_day_MA\\'] = df[\\'Close\\'].rolling(window=10).mean()\\\\n\\\\n# Calculate daily returns\\\\ndf[\\'Daily_Return\\'] = df[\\'Close\\'].pct_change() * 100\\\\n\\\\n# Calculate cumulative returns\\\\ndf[\\'Cumulative_Return\\'] = (1 + df[\\'Daily_Return\\'] / 100).cumprod() - 1\\\\n\\\\n# Calculate trading volume trends (rolling 5-day average)\\\\ndf[\\'5_day_Volume_MA\\'] = df[\\'Volume\\'].rolling(window=5).mean()\\\\n\\\\n# Calculate price momentum (difference between current close and close 5 days ago)\\\\ndf[\\'Price_Momentum\\'] = df[\\'Close\\'] - df[\\'Close\\'].shift(5)\\\\n\\\\n# Display the results\\\\nprint(\\\\\"Technical Analysis Results:\\\\\")\\\\nprint(df[[\\'Date\\', \\'Close\\', \\'5_day_MA\\', \\'10_day_MA\\', \\'Daily_Return\\', \\'Cumulative_Return\\', \\'5_day_Volume_MA\\', \\'Price_Momentum\\']].tail())\"}', 'name': 'python_repl_tool'}, 'type': 'function', 'index': 0}], 'refusal': None}, response_metadata={'token_usage': {'completion_tokens': 571, 'prompt_tokens': 2126, 'total_tokens': 2697, 'completion_tokens_details': None, 'prompt_tokens_details': {'audio_tokens': None, 'cached_tokens': 1536}, 'prompt_cache_hit_tokens': 1536, 'prompt_cache_miss_tokens': 590}, 'model_name': 'deepseek-chat', 'system_fingerprint': 'fp_8802369eaa_prod0425fp8', 'id': '1d6d8355-f1db-4b9a-8fa9-115897415a5e', 'service_tier': None, 'finish_reason': 'tool_calls', 'logprobs': None}, id='run--2d250a20-12fa-4b9c-810d-cc53de31bb45-0', tool_calls=[{'name': 'python_repl_tool', 'args': {'code': 'import pandas as pd\\n\\n# Load the data from the CSV file\\ndata_path = \"/Volumes/mnt/Workspace/stock-analysis-agent-langgraph/data/mnst_performance_in_the_past_10_days.csv\"\\ndf = pd.read_csv(data_path)\\n\\n# Convert \\'Date\\' to datetime\\ndf[\\'Date\\'] = pd.to_datetime(df[\\'Date\\'])\\n\\n# Sort the data by date\\ndf = df.sort_values(\\'Date\\')\\n\\n# Calculate 5-day and 10-day moving averages for \\'Close\\' price\\ndf[\\'5_day_MA\\'] = df[\\'Close\\'].rolling(window=5).mean()\\ndf[\\'10_day_MA\\'] = df[\\'Close\\'].rolling(window=10).mean()\\n\\n# Calculate daily returns\\ndf[\\'Daily_Return\\'] = df[\\'Close\\'].pct_change() * 100\\n\\n# Calculate cumulative returns\\ndf[\\'Cumulative_Return\\'] = (1 + df[\\'Daily_Return\\'] / 100).cumprod() - 1\\n\\n# Calculate trading volume trends (rolling 5-day average)\\ndf[\\'5_day_Volume_MA\\'] = df[\\'Volume\\'].rolling(window=5).mean()\\n\\n# Calculate price momentum (difference between current close and close 5 days ago)\\ndf[\\'Price_Momentum\\'] = df[\\'Close\\'] - df[\\'Close\\'].shift(5)\\n\\n# Display the results\\nprint(\"Technical Analysis Results:\")\\nprint(df[[\\'Date\\', \\'Close\\', \\'5_day_MA\\', \\'10_day_MA\\', \\'Daily_Return\\', \\'Cumulative_Return\\', \\'5_day_Volume_MA\\', \\'Price_Momentum\\']].tail())'}, 'id': 'call_0_7ab774d6-94b6-41f9-ab80-676cf874f1f2', 'type': 'tool_call'}], usage_metadata={'input_tokens': 2126, 'output_tokens': 571, 'total_tokens': 2697, 'input_token_details': {'cache_read': 1536}, 'output_token_details': {}}), ToolMessage(content='Successfully executed:\\n```python\\nimport pandas as pd\\n\\n# Load the data from the CSV file\\ndata_path = \"/Volumes/mnt/Workspace/stock-analysis-agent-langgraph/data/mnst_performance_in_the_past_10_days.csv\"\\ndf = pd.read_csv(data_path)\\n\\n# Convert \\'Date\\' to datetime\\ndf[\\'Date\\'] = pd.to_datetime(df[\\'Date\\'])\\n\\n# Sort the data by date\\ndf = df.sort_values(\\'Date\\')\\n\\n# Calculate 5-day and 10-day moving averages for \\'Close\\' price\\ndf[\\'5_day_MA\\'] = df[\\'Close\\'].rolling(window=5).mean()\\ndf[\\'10_day_MA\\'] = df[\\'Close\\'].rolling(window=10).mean()\\n\\n# Calculate daily returns\\ndf[\\'Daily_Return\\'] = df[\\'Close\\'].pct_change() * 100\\n\\n# Calculate cumulative returns\\ndf[\\'Cumulative_Return\\'] = (1 + df[\\'Daily_Return\\'] / 100).cumprod() - 1\\n\\n# Calculate trading volume trends (rolling 5-day average)\\ndf[\\'5_day_Volume_MA\\'] = df[\\'Volume\\'].rolling(window=5).mean()\\n\\n# Calculate price momentum (difference between current close and close 5 days ago)\\ndf[\\'Price_Momentum\\'] = df[\\'Close\\'] - df[\\'Close\\'].shift(5)\\n\\n# Display the results\\nprint(\"Technical Analysis Results:\")\\nprint(df[[\\'Date\\', \\'Close\\', \\'5_day_MA\\', \\'10_day_MA\\', \\'Daily_Return\\', \\'Cumulative_Return\\', \\'5_day_Volume_MA\\', \\'Price_Momentum\\']].tail())\\n```\\nStdout: Technical Analysis Results:\\n                       Date      Close  5_day_MA  10_day_MA  Daily_Return  \\\\\\n5 2025-05-05 00:00:00-04:00  60.910000    59.970        NaN      1.432141   \\n6 2025-05-06 00:00:00-04:00  60.020000    60.124        NaN     -1.461171   \\n7 2025-05-07 00:00:00-04:00  60.560001    60.212        NaN      0.899702   \\n8 2025-05-08 00:00:00-04:00  60.139999    60.336        NaN     -0.693530   \\n9 2025-05-09 00:00:00-04:00  61.000000    60.526     60.006      1.429998   \\n\\n   Cumulative_Return  5_day_Volume_MA  Price_Momentum  \\n5           0.041375        4522520.0        2.419998  \\n6           0.026158        4884520.0        0.770000  \\n7           0.035391        4612960.0        0.440002  \\n8           0.028210        4796760.0        0.619999  \\n9           0.042913        5695320.0        0.950001  \\n', name='python_repl_tool', id='1fcddf81-7a21-4e40-9fcf-5dff04ea251e', tool_call_id='call_0_7ab774d6-94b6-41f9-ab80-676cf874f1f2')]\n",
      "==================================\u001b[1m Ai Message \u001b[0m==================================\n",
      "\n",
      "Here are the results of the **Technical Analysis** for the stock **MNST**:\n",
      "\n",
      "### Key Metrics (Last 5 Days):\n",
      "| Date                      |   Close |   5-day MA |   10-day MA | Daily Return (%) | Cumulative Return | 5-day Volume MA | Price Momentum |\n",
      "|:--------------------------|--------:|-----------:|------------:|-----------------:|------------------:|----------------:|---------------:|\n",
      "| 2025-05-05 00:00:00-04:00 | 60.9100 |     59.970 |         NaN |          1.43214 |           0.041375 |       4,522,520 |       2.419998 |\n",
      "| 2025-05-06 00:00:00-04:00 | 60.0200 |     60.124 |         NaN |         -1.46117 |           0.026158 |       4,884,520 |       0.770000 |\n",
      "| 2025-05-07 00:00:00-04:00 | 60.5600 |     60.212 |         NaN |          0.89970 |           0.035391 |       4,612,960 |       0.440002 |\n",
      "| 2025-05-08 00:00:00-04:00 | 60.1400 |     60.336 |         NaN |         -0.69353 |           0.028210 |       4,796,760 |       0.619999 |\n",
      "| 2025-05-09 00:00:00-04:00 | 61.0000 |     60.526 |     60.0060 |          1.43000 |           0.042913 |       5,695,320 |       0.950001 |\n",
      "\n",
      "### Insights:\n",
      "1. **Moving Averages**:\n",
      "   - The 5-day moving average (MA) is calculated, but the 10-day MA is not fully available due to insufficient data points.\n",
      "   - The stock price is generally above the 5-day MA, indicating a short-term upward trend.\n",
      "\n",
      "2. **Daily Returns**:\n",
      "   - The daily returns fluctuate between -1.46% and +1.43%, showing moderate volatility.\n",
      "\n",
      "3. **Cumulative Returns**:\n",
      "   - The cumulative return over the period is approximately **4.29%**, reflecting overall positive performance.\n",
      "\n",
      "4. **Volume Trends**:\n",
      "   - The 5-day average trading volume is around **4.6M to 5.7M shares**, indicating active trading.\n",
      "\n",
      "5. **Price Momentum**:\n",
      "   - The price momentum is positive, suggesting the stock has gained value compared to 5 days prior.\n",
      "\n",
      "Would you like to proceed with **Comparative Analysis** (e.g., against S&P 500) or **Statistical Insights** (e.g., volatility metrics, Sharpe ratio)? Let me know!\n"
     ]
    }
   ],
   "source": [
    "input_message = HumanMessage(\n",
    "    content=\"First, Let get the top performance stock data\")\n",
    "\n",
    "events = graph.stream(\n",
    "    input={\n",
    "        \"messages\": [input_message],\n",
    "        \"number_of_days_analysis\": 10,\n",
    "        \"email_address\": \"nelsonlin0321@gmail.com\"\n",
    "    },\n",
    "    # Maximum number of steps to take in the graphd\n",
    "    config={\"recursion_limit\": 15},\n",
    "    stream_mode=\"values\",\n",
    ")\n",
    "for event in events:\n",
    "    if \"messages\" in event:\n",
    "        event[\"messages\"][-1].pretty_print()"
   ]
  },
  {
   "cell_type": "code",
   "execution_count": null,
   "metadata": {},
   "outputs": [],
   "source": []
  },
  {
   "cell_type": "markdown",
   "metadata": {},
   "source": []
  }
 ],
 "metadata": {
  "kernelspec": {
   "display_name": ".venv",
   "language": "python",
   "name": "python3"
  },
  "language_info": {
   "codemirror_mode": {
    "name": "ipython",
    "version": 3
   },
   "file_extension": ".py",
   "mimetype": "text/x-python",
   "name": "python",
   "nbconvert_exporter": "python",
   "pygments_lexer": "ipython3",
   "version": "3.10.16"
  }
 },
 "nbformat": 4,
 "nbformat_minor": 2
}
