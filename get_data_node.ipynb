{
 "cells": [
  {
   "cell_type": "code",
   "execution_count": 1,
   "id": "e8f2fff1",
   "metadata": {},
   "outputs": [],
   "source": [
    "%load_ext autoreload\n",
    "%autoreload 2\n"
   ]
  },
  {
   "cell_type": "code",
   "execution_count": 2,
   "id": "6fd3fed1",
   "metadata": {},
   "outputs": [],
   "source": [
    "import os\n",
    "import dotenv"
   ]
  },
  {
   "cell_type": "code",
   "execution_count": 3,
   "id": "e64d5532",
   "metadata": {},
   "outputs": [
    {
     "data": {
      "text/plain": [
       "True"
      ]
     },
     "execution_count": 3,
     "metadata": {},
     "output_type": "execute_result"
    }
   ],
   "source": [
    "dotenv.load_dotenv()"
   ]
  },
  {
   "cell_type": "code",
   "execution_count": 4,
   "id": "d3f79e3d",
   "metadata": {},
   "outputs": [],
   "source": [
    "from langchain_deepseek import ChatDeepSeek\n",
    "import json\n",
    "from typing import Annotated\n",
    "from src.utils_stock import get_top_nasdaq_stock_data\n",
    "from langchain_core.tools import tool\n",
    "from langgraph.prebuilt import InjectedState\n",
    "from langgraph.prebuilt import ToolNode\n",
    "from typing import TypedDict\n",
    "from langgraph.graph.message import add_messages"
   ]
  },
  {
   "cell_type": "code",
   "execution_count": 5,
   "id": "5df89f15",
   "metadata": {},
   "outputs": [],
   "source": [
    "llm = ChatDeepSeek(model=\"deepseek-chat\",\n",
    "                   api_key=os.getenv(\"DEEPSEEK_API_KEY\"))"
   ]
  },
  {
   "cell_type": "code",
   "execution_count": 8,
   "id": "a18dc851",
   "metadata": {},
   "outputs": [],
   "source": [
    "class State(TypedDict):\n",
    "    messages: Annotated[list, add_messages]\n",
    "    number_days_of_analysis: int\n",
    "    email: str"
   ]
  },
  {
   "cell_type": "markdown",
   "id": "6f6dd597",
   "metadata": {},
   "source": [
    "### data_acquisition_tool_node"
   ]
  },
  {
   "cell_type": "code",
   "execution_count": 6,
   "id": "93e50b76",
   "metadata": {},
   "outputs": [],
   "source": [
    "@tool\n",
    "def get_top_nasdaq_performance_stock_data(\n",
    "        state: Annotated[dict, InjectedState]) -> str:\n",
    "    \"\"\"Get the day's top NASDAQ-100 gainer with symbol, percentage increase, sample data in markdown format, pandas dataframe info and csv data path for further python code analysis.\n",
    "    \"\"\"\n",
    "    print(state.keys())\n",
    "    result = get_top_nasdaq_stock_data(\n",
    "        state[\"number_days_of_analysis\"])\n",
    "    return json.dumps(result)"
   ]
  },
  {
   "cell_type": "code",
   "execution_count": 7,
   "id": "8f12b337",
   "metadata": {},
   "outputs": [],
   "source": [
    "data_acquisition_tools = [get_top_nasdaq_performance_stock_data]\n",
    "data_acquisition_tool_node = ToolNode(data_acquisition_tools)"
   ]
  },
  {
   "cell_type": "markdown",
   "id": "172194f8",
   "metadata": {},
   "source": [
    "### "
   ]
  },
  {
   "cell_type": "markdown",
   "id": "347b5366",
   "metadata": {},
   "source": [
    "### data_acquisition_agent_node"
   ]
  },
  {
   "cell_type": "code",
   "execution_count": 10,
   "id": "caa66ed7",
   "metadata": {},
   "outputs": [],
   "source": [
    "def data_acquisition_agent_node(state: State):\n",
    "    messages = state[\"messages\"]\n",
    "    llm_with_tools = llm.bind_tools(data_acquisition_tools)\n",
    "    response = llm_with_tools.invoke(messages)\n",
    "    return {\"messages\": [response]}"
   ]
  },
  {
   "cell_type": "code",
   "execution_count": 38,
   "id": "82479c2f",
   "metadata": {},
   "outputs": [],
   "source": [
    "from typing import Literal\n",
    "\n",
    "from langgraph.graph import StateGraph\n",
    "\n",
    "\n",
    "workflow = StateGraph(State)\n",
    "\n",
    "workflow.add_node(\"agents\", data_acquisition_agent_node)\n",
    "workflow.add_node(\"tool\", data_acquisition_tool_node)\n",
    "\n",
    "\n",
    "def should_continue(state: State) -> Literal[\"tool\", \"__end__\"]:\n",
    "    messages = state[\"messages\"]\n",
    "    last_message = messages[-1]\n",
    "    if last_message.tool_calls:\n",
    "        return \"tool\"\n",
    "    return \"__end__\"\n",
    "\n",
    "\n",
    "workflow.add_edge(\"__start__\", \"agents\")\n",
    "workflow.add_conditional_edges(\n",
    "    \"agents\",\n",
    "    should_continue,\n",
    ")\n",
    "workflow.add_edge(\"tool\", \"agents\")\n",
    "\n",
    "app = workflow.compile()"
   ]
  },
  {
   "cell_type": "code",
   "execution_count": 39,
   "id": "ac8ac479",
   "metadata": {},
   "outputs": [],
   "source": [
    "from IPython.display import Image, display\n",
    "\n",
    "try:\n",
    "    display(Image(app.get_graph().draw_mermaid_png()))\n",
    "except Exception:\n",
    "    # This requires some extra dependencies and is optional\n",
    "    pass"
   ]
  },
  {
   "cell_type": "code",
   "execution_count": 10,
   "id": "6de04422",
   "metadata": {},
   "outputs": [
    {
     "name": "stdout",
     "output_type": "stream",
     "text": [
      "================================\u001b[1m Human Message \u001b[0m=================================\n",
      "\n",
      "Let get the top performance stock data\n",
      "==================================\u001b[1m Ai Message \u001b[0m==================================\n",
      "Tool Calls:\n",
      "  get_top_nasdaq_performance_stock_data (call_0_98f7fb33-02c9-4d2b-b0be-cae6c3ac881e)\n",
      " Call ID: call_0_98f7fb33-02c9-4d2b-b0be-cae6c3ac881e\n",
      "  Args:\n",
      "dict_keys(['messages', 'number_days_of_analysis', 'email'])\n"
     ]
    },
    {
     "name": "stderr",
     "output_type": "stream",
     "text": [
      "100%|██████████| 101/101 [00:02<00:00, 38.62it/s]\n"
     ]
    },
    {
     "name": "stdout",
     "output_type": "stream",
     "text": [
      "=================================\u001b[1m Tool Message \u001b[0m=================================\n",
      "Name: get_top_nasdaq_performance_stock_data\n",
      "\n",
      "{\"symbol\": \"MNST\", \"percentage_increased\": 3.7238540649033007, \"sample_data_in_markdown\": \"| Date                      |   Open |   High |   Low |   Close |   Volume |   Dividends |   Stock Splits |\\n|:--------------------------|-------:|-------:|------:|--------:|---------:|------------:|---------------:|\\n| 2025-05-05 00:00:00-04:00 |  60.06 |  61.29 | 59.63 |   60.91 |  4609300 |           0 |              0 |\\n| 2025-05-06 00:00:00-04:00 |  60.58 |  60.77 | 59.89 |   60.02 |  5258100 |           0 |              0 |\\n| 2025-05-07 00:00:00-04:00 |  60.26 |  60.85 | 59.98 |   60.56 |  3870900 |           0 |              0 |\\n| 2025-05-08 00:00:00-04:00 |  60.65 |  61.07 | 60.08 |   60.14 |  6083900 |           0 |              0 |\\n| 2025-05-09 00:00:00-04:00 |  58.81 |  61.83 | 58.62 |   61    |  8654400 |           0 |              0 |\", \"data_csv_path\": \"/Volumes/mnt/Workspace/stock-analysis-agent-langgraph/data/mnst_performance_in_the_past_5_days.csv\", \"pandas_dataframe_info\": \"<class 'pandas.core.frame.DataFrame'>\\nRangeIndex: 5 entries, 0 to 4\\nData columns (total 8 columns):\\n #   Column        Non-Null Count  Dtype                           \\n---  ------        --------------  -----                           \\n 0   Date          5 non-null      datetime64[ns, America/New_York]\\n 1   Open          5 non-null      float64                         \\n 2   High          5 non-null      float64                         \\n 3   Low           5 non-null      float64                         \\n 4   Close         5 non-null      float64                         \\n 5   Volume        5 non-null      int64                           \\n 6   Dividends     5 non-null      float64                         \\n 7   Stock Splits  5 non-null      float64                         \\ndtypes: datetime64[ns, America/New_York](1), float64(6), int64(1)\\nmemory usage: 448.0 bytes\\n\"}\n",
      "==================================\u001b[1m Ai Message \u001b[0m==================================\n",
      "\n",
      "Here's the data for the top-performing NASDAQ stock today:\n",
      "\n",
      "- **Symbol:** MNST\n",
      "- **Percentage Increased:** 3.72%\n",
      "\n",
      "### Sample Data (Last 5 Days):\n",
      "| Date                      |   Open |   High |   Low |   Close |   Volume |   Dividends |   Stock Splits |\n",
      "|:--------------------------|-------:|-------:|------:|--------:|---------:|------------:|---------------:|\n",
      "| 2025-05-05 00:00:00-04:00 |  60.06 |  61.29 | 59.63 |   60.91 |  4609300 |           0 |              0 |\n",
      "| 2025-05-06 00:00:00-04:00 |  60.58 |  60.77 | 59.89 |   60.02 |  5258100 |           0 |              0 |\n",
      "| 2025-05-07 00:00:00-04:00 |  60.26 |  60.85 | 59.98 |   60.56 |  3870900 |           0 |              0 |\n",
      "| 2025-05-08 00:00:00-04:00 |  60.65 |  61.07 | 60.08 |   60.14 |  6083900 |           0 |              0 |\n",
      "| 2025-05-09 00:00:00-04:00 |  58.81 |  61.83 | 58.62 |   61    |  8654400 |           0 |              0 |\n",
      "\n",
      "### Data Information:\n",
      "- **CSV Path:** `/Volumes/mnt/Workspace/stock-analysis-agent-langgraph/data/mnst_performance_in_the_past_5_days.csv`\n",
      "- **Pandas DataFrame Info:**\n",
      "  ```plaintext\n",
      "  <class 'pandas.core.frame.DataFrame'>\n",
      "  RangeIndex: 5 entries, 0 to 4\n",
      "  Data columns (total 8 columns):\n",
      "   #   Column        Non-Null Count  Dtype                          \n",
      "  ---  ------        --------------  -----                          \n",
      "   0   Date          5 non-null      datetime64[ns, America/New_York]\n",
      "   1   Open          5 non-null      float64                        \n",
      "   2   High          5 non-null      float64                        \n",
      "   3   Low           5 non-null      float64                        \n",
      "   4   Close         5 non-null      float64                        \n",
      "   5   Volume        5 non-null      int64                          \n",
      "   6   Dividends     5 non-null      float64                        \n",
      "   7   Stock Splits  5 non-null      float64                        \n",
      "  dtypes: datetime64[ns, America/New_York](1), float64(6), int64(1)\n",
      "  memory usage: 448.0 bytes\n",
      "  ```\n",
      "\n",
      "Let me know if you'd like to analyze this data further!\n"
     ]
    }
   ],
   "source": [
    "\n",
    "from langchain_core.messages import HumanMessage\n",
    "\n",
    "for chunk in app.stream(\n",
    "    input={\n",
    "        \"messages\": [\n",
    "        HumanMessage(\n",
    "            content=\"Let get the top performance stock data\")\n",
    "        ],\n",
    "        \"number_days_of_analysis\": 5,\n",
    "        \"email\": \"nelsonlin0321@gmail.com\"\n",
    "    },\n",
    "    stream_mode=\"values\",\n",
    "    # config={\"configurable\": {\"number_days_of_analysis\": \"123\"}}\n",
    "):\n",
    "    chunk[\"messages\"][-1].pretty_print()"
   ]
  },
  {
   "cell_type": "code",
   "execution_count": null,
   "id": "a0050af0",
   "metadata": {},
   "outputs": [],
   "source": []
  }
 ],
 "metadata": {
  "kernelspec": {
   "display_name": ".venv",
   "language": "python",
   "name": "python3"
  },
  "language_info": {
   "codemirror_mode": {
    "name": "ipython",
    "version": 3
   },
   "file_extension": ".py",
   "mimetype": "text/x-python",
   "name": "python",
   "nbconvert_exporter": "python",
   "pygments_lexer": "ipython3",
   "version": "3.10.16"
  }
 },
 "nbformat": 4,
 "nbformat_minor": 5
}
