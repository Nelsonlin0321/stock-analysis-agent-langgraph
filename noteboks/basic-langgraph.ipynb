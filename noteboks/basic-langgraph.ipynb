{
 "cells": [
  {
   "cell_type": "code",
   "execution_count": null,
   "id": "c8e6388a",
   "metadata": {},
   "outputs": [],
   "source": [
    "import os\n",
    "os.chdir(\"./../.\")"
   ]
  },
  {
   "cell_type": "code",
   "execution_count": null,
   "id": "e8f2fff1",
   "metadata": {},
   "outputs": [],
   "source": [
    "%load_ext autoreload\n",
    "%autoreload 2\n"
   ]
  },
  {
   "cell_type": "code",
   "execution_count": null,
   "id": "7d768fa5",
   "metadata": {},
   "outputs": [],
   "source": [
    "import os\n",
    "import dotenv\n",
    "from IPython.display import Image, display\n",
    "from langchain_deepseek import ChatDeepSeek\n",
    "from langgraph.graph import StateGraph, START, END\n",
    "from typing import TypedDict\n",
    "from langgraph.graph.message import add_messages"
   ]
  },
  {
   "cell_type": "code",
   "execution_count": null,
   "id": "61e8a2eb",
   "metadata": {},
   "outputs": [],
   "source": [
    "import yfinance as yf"
   ]
  },
  {
   "cell_type": "code",
   "execution_count": null,
   "id": "25cb5658",
   "metadata": {},
   "outputs": [],
   "source": [
    "from src.utils_stock import get_top_nasdaq_performance_stock"
   ]
  },
  {
   "cell_type": "code",
   "execution_count": null,
   "id": "a1c6cb22",
   "metadata": {},
   "outputs": [],
   "source": [
    "dotenv.load_dotenv()"
   ]
  },
  {
   "cell_type": "code",
   "execution_count": null,
   "id": "79a6d916",
   "metadata": {},
   "outputs": [],
   "source": [
    "deepseek_api_key = os.getenv(\"DEEPSEEK_API_KEY\")"
   ]
  },
  {
   "cell_type": "code",
   "execution_count": null,
   "id": "97480f03",
   "metadata": {},
   "outputs": [],
   "source": [
    "number_of_days = 5"
   ]
  },
  {
   "cell_type": "code",
   "execution_count": null,
   "id": "1ca752be",
   "metadata": {},
   "outputs": [],
   "source": [
    "from typing import Annotated\n",
    "\n",
    "\n",
    "class State(TypedDict):\n",
    "    messages: Annotated[list, add_messages]"
   ]
  },
  {
   "cell_type": "code",
   "execution_count": null,
   "id": "7b9bcf80",
   "metadata": {},
   "outputs": [],
   "source": [
    "llm = ChatDeepSeek(model=\"deepseek-chat\",\n",
    "                   api_key=deepseek_api_key)"
   ]
  },
  {
   "cell_type": "code",
   "execution_count": null,
   "id": "25b12ef3",
   "metadata": {},
   "outputs": [],
   "source": [
    "graph_builder = StateGraph(State)"
   ]
  },
  {
   "cell_type": "code",
   "execution_count": null,
   "id": "51b397e0",
   "metadata": {},
   "outputs": [],
   "source": []
  },
  {
   "cell_type": "code",
   "execution_count": null,
   "id": "8a7435c4",
   "metadata": {},
   "outputs": [],
   "source": [
    "top_stock = get_top_nasdaq_performance_stock()"
   ]
  },
  {
   "cell_type": "code",
   "execution_count": null,
   "id": "0f3a402d",
   "metadata": {},
   "outputs": [],
   "source": [
    "ticker = yf.Ticker(top_stock.symbol)\n",
    "past_days_performance_df = ticker.history(period=f\"{number_of_days}d\")"
   ]
  },
  {
   "cell_type": "code",
   "execution_count": null,
   "id": "b44bc776",
   "metadata": {},
   "outputs": [],
   "source": [
    "past_days_performance_df.reset_index(inplace=True)"
   ]
  },
  {
   "cell_type": "code",
   "execution_count": null,
   "id": "2ac0b414",
   "metadata": {},
   "outputs": [],
   "source": [
    "import pandas as pd"
   ]
  },
  {
   "cell_type": "code",
   "execution_count": null,
   "id": "d30c6f6c",
   "metadata": {},
   "outputs": [],
   "source": [
    "csv_for_analysis_path = \"./data/past_days_performance.csv\""
   ]
  },
  {
   "cell_type": "code",
   "execution_count": null,
   "id": "18c84d9c",
   "metadata": {},
   "outputs": [],
   "source": [
    "past_days_performance_df.to_csv(csv_for_analysis_path, index=False)"
   ]
  },
  {
   "cell_type": "code",
   "execution_count": null,
   "id": "2f67e8d7",
   "metadata": {},
   "outputs": [],
   "source": [
    "import io\n",
    "\n",
    "buffer = io.StringIO()\n",
    "past_days_performance_df.info(buf=buffer)\n",
    "data_schema_info = buffer.getvalue()"
   ]
  },
  {
   "cell_type": "code",
   "execution_count": null,
   "id": "07404e5c",
   "metadata": {},
   "outputs": [],
   "source": [
    "data_schema_info = past_days_performance_df.info()"
   ]
  },
  {
   "cell_type": "code",
   "execution_count": null,
   "id": "3c33c119",
   "metadata": {},
   "outputs": [],
   "source": [
    "data_information = f\"\"\"\n",
    "THESE ARE THE PAST {number_of_days} DAYS PERFORMANCE OF THE STOCK {top_stock.symbol} for your analysis using python:\n",
    "THE DATAFRAME CONTAINS THE FOLLOWING SCHEMA:\n",
    "{data_schema_info}\n",
    "\n",
    "The file is saved at {csv_for_analysis_path}\n",
    "\"\"\"\"\""
   ]
  },
  {
   "cell_type": "code",
   "execution_count": null,
   "id": "9d1cfbb4",
   "metadata": {},
   "outputs": [],
   "source": [
    "graph_builder.add_node(\"chatbot\", chatbot)\n",
    "graph_builder.add_edge(START, \"chatbot\")\n",
    "graph_builder.add_edge(\"chatbot\", END)\n",
    "graph = graph_builder.compile()\n",
    "\n",
    "try:\n",
    "    display(Image(graph.get_graph().draw_mermaid_png()))\n",
    "except Exception:\n",
    "    # This requires some extra dependencies and is optional\n",
    "    pass"
   ]
  },
  {
   "cell_type": "code",
   "execution_count": null,
   "id": "cb0d5659",
   "metadata": {},
   "outputs": [],
   "source": [
    "# def stream_graph_updates(user_input: str):\n",
    "#     for event in graph.stream({\"messages\": [{\"role\": \"user\", \"content\": user_input}]}):\n",
    "#         for value in event.values():\n",
    "#             print(\"Assistant:\", value[\"messages\"][-1].content)\n",
    "\n",
    "\n",
    "# while True:\n",
    "#     try:\n",
    "#         user_input = input(\"User: \")\n",
    "#         if user_input.lower() in [\"quit\", \"exit\", \"q\"]:\n",
    "#             print(\"Goodbye!\")\n",
    "#             break\n",
    "#         stream_graph_updates(user_input)\n",
    "#     except:\n",
    "#         # fallback if input() is not available\n",
    "#         user_input = \"What do you know about LangGraph?\"\n",
    "#         print(\"User: \" + user_input)\n",
    "#         stream_graph_updates(user_input)\n",
    "#         break"
   ]
  },
  {
   "cell_type": "code",
   "execution_count": null,
   "id": "75b87d09",
   "metadata": {},
   "outputs": [],
   "source": []
  }
 ],
 "metadata": {
  "kernelspec": {
   "display_name": ".venv",
   "language": "python",
   "name": "python3"
  },
  "language_info": {
   "codemirror_mode": {
    "name": "ipython",
    "version": 3
   },
   "file_extension": ".py",
   "mimetype": "text/x-python",
   "name": "python",
   "nbconvert_exporter": "python",
   "pygments_lexer": "ipython3",
   "version": "3.10.16"
  }
 },
 "nbformat": 4,
 "nbformat_minor": 5
}
