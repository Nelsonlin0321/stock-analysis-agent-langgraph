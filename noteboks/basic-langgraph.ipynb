{
 "cells": [
  {
   "cell_type": "code",
   "execution_count": 1,
   "id": "c8e6388a",
   "metadata": {},
   "outputs": [],
   "source": [
    "import os\n",
    "os.chdir(\"./../.\")"
   ]
  },
  {
   "cell_type": "code",
   "execution_count": 2,
   "id": "e8f2fff1",
   "metadata": {},
   "outputs": [],
   "source": [
    "%load_ext autoreload\n",
    "%autoreload 2\n"
   ]
  },
  {
   "cell_type": "code",
   "execution_count": 3,
   "id": "6fd3fed1",
   "metadata": {},
   "outputs": [],
   "source": [
    "import json\n",
    "import dotenv"
   ]
  },
  {
   "cell_type": "code",
   "execution_count": 4,
   "id": "e64d5532",
   "metadata": {},
   "outputs": [
    {
     "data": {
      "text/plain": [
       "True"
      ]
     },
     "execution_count": 4,
     "metadata": {},
     "output_type": "execute_result"
    }
   ],
   "source": [
    "dotenv.load_dotenv()"
   ]
  },
  {
   "cell_type": "code",
   "execution_count": 5,
   "id": "5bd57587",
   "metadata": {},
   "outputs": [],
   "source": [
    "\n",
    "from langchain_deepseek import ChatDeepSeek\n",
    "from langchain_core.tools import tool\n",
    "from langgraph.prebuilt import create_react_agent"
   ]
  },
  {
   "cell_type": "code",
   "execution_count": 6,
   "id": "201f7705",
   "metadata": {},
   "outputs": [],
   "source": [
    "from src.utils_stock import get_top_nasdaq_stock_data"
   ]
  },
  {
   "cell_type": "code",
   "execution_count": 7,
   "id": "51a78e66",
   "metadata": {},
   "outputs": [],
   "source": [
    "# parameter\n",
    "NUM_DAYS = 5"
   ]
  },
  {
   "cell_type": "code",
   "execution_count": 8,
   "id": "964e5b1b",
   "metadata": {},
   "outputs": [],
   "source": [
    "def get_system_prompt(suffix: str) -> str:\n",
    "    return (\n",
    "        \"You are a helpful AI assistant, collaborating with other assistants.\"\n",
    "        \" Use the provided tools to progress towards answering the question.\"\n",
    "        \" If you are unable to fully answer, that's OK, another assistant with different tools \"\n",
    "        \" will help where you left off. Execute what you can to make progress.\"\n",
    "        \" If you or any of the other assistants have the final answer or deliverable,\"\n",
    "        \" prefix your response with FINAL ANSWER so the team knows to stop.\"\n",
    "        f\"\\n{suffix}\"\n",
    "    )"
   ]
  },
  {
   "cell_type": "code",
   "execution_count": 9,
   "id": "5df89f15",
   "metadata": {},
   "outputs": [],
   "source": [
    "llm = ChatDeepSeek(model=\"deepseek-chat\",\n",
    "                   api_key=os.getenv(\"DEEPSEEK_API_KEY\"))"
   ]
  },
  {
   "cell_type": "markdown",
   "id": "819907a8",
   "metadata": {},
   "source": [
    "### Data Acquisition Agent"
   ]
  },
  {
   "cell_type": "code",
   "execution_count": 10,
   "id": "3772fee0",
   "metadata": {},
   "outputs": [],
   "source": [
    "@tool\n",
    "def get_top_nasdaq_performance_stock_data() -> str:\n",
    "    \"\"\"Get the day's top NASDAQ-100 gainer with symbol, percentage increase, sample data in markdown format, pandas dataframe info and csv data path for further python code analysis.\n",
    "    \"\"\"\n",
    "    result = get_top_nasdaq_stock_data(NUM_DAYS)\n",
    "    return json.dumps(result)"
   ]
  },
  {
   "cell_type": "code",
   "execution_count": 11,
   "id": "bbb350ac",
   "metadata": {},
   "outputs": [],
   "source": [
    "# Research agent and node\n",
    "data_acquisition_agent = create_react_agent(\n",
    "    llm,\n",
    "    tools=[get_top_nasdaq_performance_stock_data],\n",
    "    prompt=get_system_prompt(\n",
    "        \"You can only do data acquisition to the day's top NASDAQ gainer info using get_top_nasdaq_performance_stock_data tool.\"\n",
    "    ),\n",
    ")"
   ]
  },
  {
   "cell_type": "markdown",
   "id": "882f1e87",
   "metadata": {},
   "source": [
    "### Python Data Analysis Agent"
   ]
  },
  {
   "cell_type": "code",
   "execution_count": 12,
   "id": "2f57a02c",
   "metadata": {},
   "outputs": [],
   "source": [
    "from langchain_experimental.utilities import PythonREPL"
   ]
  },
  {
   "cell_type": "code",
   "execution_count": 13,
   "id": "52d5a4c7",
   "metadata": {},
   "outputs": [],
   "source": [
    "from typing import Annotated\n",
    "\n",
    "\n",
    "repl = PythonREPL()\n",
    "\n",
    "\n",
    "@tool\n",
    "def python_repl_tool(\n",
    "    code: Annotated[str, \"The python code to execute to do comprehensive stock performance analysis\"],\n",
    "):\n",
    "    \"\"\"Use this to execute python code. If you want to see the output of a value,\n",
    "    you should print it out with `print(...)`. This is visible to the user.\"\"\"\n",
    "    try:\n",
    "        result = repl.run(code)\n",
    "    except BaseException as e:\n",
    "        return f\"Failed to execute. Error: {repr(e)}\"\n",
    "    result_str = f\"Successfully executed:\\n```python\\n{code}\\n```\\nStdout: {result}\"\n",
    "    return (\n",
    "        result_str + \"\\n\\nIf you have completed all tasks, respond with FINAL ANSWER.\"\n",
    "    )"
   ]
  },
  {
   "cell_type": "code",
   "execution_count": 14,
   "id": "3f059714",
   "metadata": {},
   "outputs": [],
   "source": [
    "python_data_analysis_agent = create_react_agent(\n",
    "    llm,\n",
    "    [python_repl_tool],\n",
    "    prompt=get_system_prompt(\n",
    "        \"\"\"\n",
    "        You are an agent designed to write and execute python code for comprehensive stock analysis given data. \n",
    "        The data include the stock symbol, percentage increase, sample data in markdown format, pandas dataframe info, and csv data path for python code analysis. \n",
    "        You have access to a python REPL, which you can use to execute python code.\n",
    "        If you get an error, debug your code and try again.\n",
    "        You're expected to read the data using pandas to perform statistical analysis such as last 5 trading days (e.g., calculate average change, determine a simple trend)\n",
    "        and calculating volatility, comparing performance to a market index like S&P 500\n",
    "\"\"\"\n",
    "    ),\n",
    ")"
   ]
  },
  {
   "cell_type": "markdown",
   "id": "a6a4230f",
   "metadata": {},
   "source": [
    "### Define Graph"
   ]
  },
  {
   "cell_type": "code",
   "execution_count": 15,
   "id": "b9afbda5",
   "metadata": {},
   "outputs": [],
   "source": [
    "from typing import Literal\n",
    "from langgraph.graph import MessagesState, END\n",
    "from langgraph.types import Command\n",
    "from langchain_core.messages import HumanMessage, BaseMessage"
   ]
  },
  {
   "cell_type": "code",
   "execution_count": 16,
   "id": "c51fe771",
   "metadata": {},
   "outputs": [],
   "source": [
    "# def get_next_node(last_message: BaseMessage, goto: str):\n",
    "#     if \"FINAL ANSWER\" in last_message.content:\n",
    "#         # Any agent decided the work is done\n",
    "#         return END\n",
    "#     return goto"
   ]
  },
  {
   "cell_type": "code",
   "execution_count": 17,
   "id": "98646593",
   "metadata": {},
   "outputs": [],
   "source": [
    "def data_acquisition_node(\n",
    "    state: MessagesState,\n",
    ") -> Command[Literal[\"python_data_analyst\"]]:   # Go to python_data_analyst node\n",
    "    result = data_acquisition_agent.invoke(state)\n",
    "    result[\"messages\"][-1] = HumanMessage(\n",
    "        content=result[\"messages\"][-1].content, name=\"data_acquisition_specialist\"\n",
    "    )\n",
    "    return Command(\n",
    "        update={\n",
    "            \"messages\": result[\"messages\"],\n",
    "        },\n",
    "        goto=\"python_data_analyst\",\n",
    "    )"
   ]
  },
  {
   "cell_type": "code",
   "execution_count": 18,
   "id": "799acd02",
   "metadata": {},
   "outputs": [],
   "source": [
    "def data_analysis_node(\n",
    "    state: MessagesState,\n",
    ") -> Command[Literal[END]]:  # type: ignore\n",
    "    result = python_data_analysis_agent.invoke(state)\n",
    "    result[\"messages\"][-1] = HumanMessage(\n",
    "        content=result[\"messages\"][-1].content, name=\"python_data_analyst\"\n",
    "    )\n",
    "    return Command(\n",
    "        update={\n",
    "            \"messages\": result[\"messages\"],\n",
    "        },\n",
    "        goto=END,\n",
    "    )"
   ]
  },
  {
   "cell_type": "code",
   "execution_count": 19,
   "id": "5ecb7bb1",
   "metadata": {},
   "outputs": [],
   "source": [
    "from langgraph.graph import StateGraph, START\n",
    "\n",
    "workflow = StateGraph(MessagesState)\n",
    "workflow.add_node(\"data_acquisition_specialist\", data_acquisition_node)\n",
    "workflow.add_node(\"python_data_analyst\", data_analysis_node)\n",
    "\n",
    "workflow.add_edge(START, \"data_acquisition_specialist\")\n",
    "# workflow.add_edge(\"data_acquisition_specialist\", \"python_data_analyst\")\n",
    "graph = workflow.compile()"
   ]
  },
  {
   "cell_type": "code",
   "execution_count": 20,
   "id": "92ff46ab",
   "metadata": {},
   "outputs": [],
   "source": [
    "# from IPython.display import Image, display\n",
    "\n",
    "# display(Image(graph.get_graph().draw_mermaid_png()))"
   ]
  },
  {
   "cell_type": "code",
   "execution_count": 21,
   "id": "1ce52e93",
   "metadata": {},
   "outputs": [
    {
     "name": "stderr",
     "output_type": "stream",
     "text": [
      "100%|██████████| 101/101 [00:02<00:00, 35.77it/s]\n"
     ]
    },
    {
     "name": "stdout",
     "output_type": "stream",
     "text": [
      "{'data_acquisition_specialist': {'messages': [HumanMessage(content='First, get the top performance stock data ', additional_kwargs={}, response_metadata={}, id='e26f9471-6601-4321-89bb-97e03f1c1550'), AIMessage(content='', additional_kwargs={'tool_calls': [{'id': 'call_0_7fa32033-ef71-418d-80b9-7efb7de84a96', 'function': {'arguments': '{}', 'name': 'get_top_nasdaq_performance_stock_data'}, 'type': 'function', 'index': 0}], 'refusal': None}, response_metadata={'token_usage': {'completion_tokens': 23, 'prompt_tokens': 237, 'total_tokens': 260, 'completion_tokens_details': None, 'prompt_tokens_details': {'audio_tokens': None, 'cached_tokens': 192}, 'prompt_cache_hit_tokens': 192, 'prompt_cache_miss_tokens': 45}, 'model_name': 'deepseek-chat', 'system_fingerprint': 'fp_8802369eaa_prod0425fp8', 'id': '73f647c6-eb98-4c0f-beca-8d19535103b3', 'service_tier': None, 'finish_reason': 'tool_calls', 'logprobs': None}, id='run--8196bbf3-eeda-4cba-85a6-cb819f2cf10d-0', tool_calls=[{'name': 'get_top_nasdaq_performance_stock_data', 'args': {}, 'id': 'call_0_7fa32033-ef71-418d-80b9-7efb7de84a96', 'type': 'tool_call'}], usage_metadata={'input_tokens': 237, 'output_tokens': 23, 'total_tokens': 260, 'input_token_details': {'cache_read': 192}, 'output_token_details': {}}), ToolMessage(content='{\"symbol\": \"MNST\", \"percentage_increased\": 3.7238540649033007, \"sample_data_in_markdown\": \"| Date                      |   Open |   High |   Low |   Close |   Volume |   Dividends |   Stock Splits |\\\\n|:--------------------------|-------:|-------:|------:|--------:|---------:|------------:|---------------:|\\\\n| 2025-05-05 00:00:00-04:00 |  60.06 |  61.29 | 59.63 |   60.91 |  4609300 |           0 |              0 |\\\\n| 2025-05-06 00:00:00-04:00 |  60.58 |  60.77 | 59.89 |   60.02 |  5258100 |           0 |              0 |\\\\n| 2025-05-07 00:00:00-04:00 |  60.26 |  60.85 | 59.98 |   60.56 |  3870900 |           0 |              0 |\\\\n| 2025-05-08 00:00:00-04:00 |  60.65 |  61.07 | 60.08 |   60.14 |  6083900 |           0 |              0 |\\\\n| 2025-05-09 00:00:00-04:00 |  58.81 |  61.83 | 58.62 |   61    |  8654400 |           0 |              0 |\", \"data_csv_path\": \"/Volumes/mnt/Workspace/stock-analysis-agent-langgraph/data/mnst_performance_in_the_past_5_days.csv\", \"pandas_dataframe_info\": \"<class \\'pandas.core.frame.DataFrame\\'>\\\\nRangeIndex: 5 entries, 0 to 4\\\\nData columns (total 8 columns):\\\\n #   Column        Non-Null Count  Dtype                           \\\\n---  ------        --------------  -----                           \\\\n 0   Date          5 non-null      datetime64[ns, America/New_York]\\\\n 1   Open          5 non-null      float64                         \\\\n 2   High          5 non-null      float64                         \\\\n 3   Low           5 non-null      float64                         \\\\n 4   Close         5 non-null      float64                         \\\\n 5   Volume        5 non-null      int64                           \\\\n 6   Dividends     5 non-null      float64                         \\\\n 7   Stock Splits  5 non-null      float64                         \\\\ndtypes: datetime64[ns, America/New_York](1), float64(6), int64(1)\\\\nmemory usage: 448.0 bytes\\\\n\"}', name='get_top_nasdaq_performance_stock_data', id='c6057450-192f-4d70-a61e-1284b9511c29', tool_call_id='call_0_7fa32033-ef71-418d-80b9-7efb7de84a96'), HumanMessage(content=\"Here is the data for today's top NASDAQ-100 gainer:\\n\\n- **Symbol**: MNST\\n- **Percentage Increased**: 3.72%\\n\\n### Sample Data (Past 5 Days)\\n| Date                      |   Open |   High |   Low |   Close |   Volume |   Dividends |   Stock Splits |\\n|:--------------------------|-------:|-------:|------:|--------:|---------:|------------:|---------------:|\\n| 2025-05-05 00:00:00-04:00 |  60.06 |  61.29 | 59.63 |   60.91 |  4609300 |           0 |              0 |\\n| 2025-05-06 00:00:00-04:00 |  60.58 |  60.77 | 59.89 |   60.02 |  5258100 |           0 |              0 |\\n| 2025-05-07 00:00:00-04:00 |  60.26 |  60.85 | 59.98 |   60.56 |  3870900 |           0 |              0 |\\n| 2025-05-08 00:00:00-04:00 |  60.65 |  61.07 | 60.08 |   60.14 |  6083900 |           0 |              0 |\\n| 2025-05-09 00:00:00-04:00 |  58.81 |  61.83 | 58.62 |   61    |  8654400 |           0 |              0 |\\n\\n### Data Details\\n- **CSV Path**: `/Volumes/mnt/Workspace/stock-analysis-agent-langgraph/data/mnst_performance_in_the_past_5_days.csv`\\n- **Pandas DataFrame Info**:\\n  - RangeIndex: 5 entries\\n  - Columns: 8 (Date, Open, High, Low, Close, Volume, Dividends, Stock Splits)\\n  - Data Types: datetime64, float64, int64\\n\\nLet me know if you'd like further analysis or visualization of this data.\", additional_kwargs={}, response_metadata={}, name='data_acquisition_specialist', id='affd265b-2325-47e5-a889-d56af0ceb2dc')]}}\n",
      "----\n"
     ]
    },
    {
     "name": "stderr",
     "output_type": "stream",
     "text": [
      "Python REPL can execute arbitrary code. Use with caution.\n"
     ]
    },
    {
     "name": "stdout",
     "output_type": "stream",
     "text": [
      "{'python_data_analyst': {'messages': [HumanMessage(content='First, get the top performance stock data ', additional_kwargs={}, response_metadata={}, id='e26f9471-6601-4321-89bb-97e03f1c1550'), AIMessage(content='', additional_kwargs={'tool_calls': [{'id': 'call_0_7fa32033-ef71-418d-80b9-7efb7de84a96', 'function': {'arguments': '{}', 'name': 'get_top_nasdaq_performance_stock_data'}, 'type': 'function', 'index': 0}], 'refusal': None}, response_metadata={'token_usage': {'completion_tokens': 23, 'prompt_tokens': 237, 'total_tokens': 260, 'completion_tokens_details': None, 'prompt_tokens_details': {'audio_tokens': None, 'cached_tokens': 192}, 'prompt_cache_hit_tokens': 192, 'prompt_cache_miss_tokens': 45}, 'model_name': 'deepseek-chat', 'system_fingerprint': 'fp_8802369eaa_prod0425fp8', 'id': '73f647c6-eb98-4c0f-beca-8d19535103b3', 'service_tier': None, 'finish_reason': 'tool_calls', 'logprobs': None}, id='run--8196bbf3-eeda-4cba-85a6-cb819f2cf10d-0', tool_calls=[{'name': 'get_top_nasdaq_performance_stock_data', 'args': {}, 'id': 'call_0_7fa32033-ef71-418d-80b9-7efb7de84a96', 'type': 'tool_call'}], usage_metadata={'input_tokens': 237, 'output_tokens': 23, 'total_tokens': 260, 'input_token_details': {'cache_read': 192}, 'output_token_details': {}}), ToolMessage(content='{\"symbol\": \"MNST\", \"percentage_increased\": 3.7238540649033007, \"sample_data_in_markdown\": \"| Date                      |   Open |   High |   Low |   Close |   Volume |   Dividends |   Stock Splits |\\\\n|:--------------------------|-------:|-------:|------:|--------:|---------:|------------:|---------------:|\\\\n| 2025-05-05 00:00:00-04:00 |  60.06 |  61.29 | 59.63 |   60.91 |  4609300 |           0 |              0 |\\\\n| 2025-05-06 00:00:00-04:00 |  60.58 |  60.77 | 59.89 |   60.02 |  5258100 |           0 |              0 |\\\\n| 2025-05-07 00:00:00-04:00 |  60.26 |  60.85 | 59.98 |   60.56 |  3870900 |           0 |              0 |\\\\n| 2025-05-08 00:00:00-04:00 |  60.65 |  61.07 | 60.08 |   60.14 |  6083900 |           0 |              0 |\\\\n| 2025-05-09 00:00:00-04:00 |  58.81 |  61.83 | 58.62 |   61    |  8654400 |           0 |              0 |\", \"data_csv_path\": \"/Volumes/mnt/Workspace/stock-analysis-agent-langgraph/data/mnst_performance_in_the_past_5_days.csv\", \"pandas_dataframe_info\": \"<class \\'pandas.core.frame.DataFrame\\'>\\\\nRangeIndex: 5 entries, 0 to 4\\\\nData columns (total 8 columns):\\\\n #   Column        Non-Null Count  Dtype                           \\\\n---  ------        --------------  -----                           \\\\n 0   Date          5 non-null      datetime64[ns, America/New_York]\\\\n 1   Open          5 non-null      float64                         \\\\n 2   High          5 non-null      float64                         \\\\n 3   Low           5 non-null      float64                         \\\\n 4   Close         5 non-null      float64                         \\\\n 5   Volume        5 non-null      int64                           \\\\n 6   Dividends     5 non-null      float64                         \\\\n 7   Stock Splits  5 non-null      float64                         \\\\ndtypes: datetime64[ns, America/New_York](1), float64(6), int64(1)\\\\nmemory usage: 448.0 bytes\\\\n\"}', name='get_top_nasdaq_performance_stock_data', id='c6057450-192f-4d70-a61e-1284b9511c29', tool_call_id='call_0_7fa32033-ef71-418d-80b9-7efb7de84a96'), HumanMessage(content=\"Here is the data for today's top NASDAQ-100 gainer:\\n\\n- **Symbol**: MNST\\n- **Percentage Increased**: 3.72%\\n\\n### Sample Data (Past 5 Days)\\n| Date                      |   Open |   High |   Low |   Close |   Volume |   Dividends |   Stock Splits |\\n|:--------------------------|-------:|-------:|------:|--------:|---------:|------------:|---------------:|\\n| 2025-05-05 00:00:00-04:00 |  60.06 |  61.29 | 59.63 |   60.91 |  4609300 |           0 |              0 |\\n| 2025-05-06 00:00:00-04:00 |  60.58 |  60.77 | 59.89 |   60.02 |  5258100 |           0 |              0 |\\n| 2025-05-07 00:00:00-04:00 |  60.26 |  60.85 | 59.98 |   60.56 |  3870900 |           0 |              0 |\\n| 2025-05-08 00:00:00-04:00 |  60.65 |  61.07 | 60.08 |   60.14 |  6083900 |           0 |              0 |\\n| 2025-05-09 00:00:00-04:00 |  58.81 |  61.83 | 58.62 |   61    |  8654400 |           0 |              0 |\\n\\n### Data Details\\n- **CSV Path**: `/Volumes/mnt/Workspace/stock-analysis-agent-langgraph/data/mnst_performance_in_the_past_5_days.csv`\\n- **Pandas DataFrame Info**:\\n  - RangeIndex: 5 entries\\n  - Columns: 8 (Date, Open, High, Low, Close, Volume, Dividends, Stock Splits)\\n  - Data Types: datetime64, float64, int64\\n\\nLet me know if you'd like further analysis or visualization of this data.\", additional_kwargs={}, response_metadata={}, name='data_acquisition_specialist', id='affd265b-2325-47e5-a889-d56af0ceb2dc'), AIMessage(content='', additional_kwargs={'tool_calls': [{'id': 'call_0_035d82a1-7cba-41f7-a3d0-543d9958fb2e', 'function': {'arguments': '{\"code\":\"import pandas as pd\\\\n\\\\n# Load the data from the CSV path\\\\ndata = pd.read_csv(\\\\\"/Volumes/mnt/Workspace/stock-analysis-agent-langgraph/data/mnst_performance_in_the_past_5_days.csv\\\\\")\\\\n\\\\n# Calculate the average daily change in closing price\\\\ndata[\\'Daily_Change\\'] = data[\\'Close\\'].diff()\\\\naverage_change = data[\\'Daily_Change\\'].mean()\\\\n\\\\n# Determine the trend (positive or negative)\\\\ntrend = \\\\\"positive\\\\\" if average_change > 0 else \\\\\"negative\\\\\"\\\\n\\\\n# Calculate volatility (standard deviation of daily changes)\\\\nvolatility = data[\\'Daily_Change\\'].std()\\\\n\\\\n# Print the results\\\\nprint(f\\\\\"Average Daily Change: {average_change:.2f}\\\\\")\\\\nprint(f\\\\\"Trend: {trend}\\\\\")\\\\nprint(f\\\\\"Volatility: {volatility:.2f}\\\\\")\\\\n\\\\n# Display the last 5 days of data\\\\nprint(\\\\\"\\\\\\\\nLast 5 Trading Days:\\\\\")\\\\nprint(data[[\\'Date\\', \\'Close\\', \\'Daily_Change\\']])\"}', 'name': 'python_repl_tool'}, 'type': 'function', 'index': 0}], 'refusal': None}, response_metadata={'token_usage': {'completion_tokens': 259, 'prompt_tokens': 1466, 'total_tokens': 1725, 'completion_tokens_details': None, 'prompt_tokens_details': {'audio_tokens': None, 'cached_tokens': 192}, 'prompt_cache_hit_tokens': 192, 'prompt_cache_miss_tokens': 1274}, 'model_name': 'deepseek-chat', 'system_fingerprint': 'fp_8802369eaa_prod0425fp8', 'id': 'c0021be9-7af9-4ac0-b900-37ef5104f17e', 'service_tier': None, 'finish_reason': 'tool_calls', 'logprobs': None}, id='run--9102f2bd-5b29-4fa5-8a54-1465799e2f30-0', tool_calls=[{'name': 'python_repl_tool', 'args': {'code': 'import pandas as pd\\n\\n# Load the data from the CSV path\\ndata = pd.read_csv(\"/Volumes/mnt/Workspace/stock-analysis-agent-langgraph/data/mnst_performance_in_the_past_5_days.csv\")\\n\\n# Calculate the average daily change in closing price\\ndata[\\'Daily_Change\\'] = data[\\'Close\\'].diff()\\naverage_change = data[\\'Daily_Change\\'].mean()\\n\\n# Determine the trend (positive or negative)\\ntrend = \"positive\" if average_change > 0 else \"negative\"\\n\\n# Calculate volatility (standard deviation of daily changes)\\nvolatility = data[\\'Daily_Change\\'].std()\\n\\n# Print the results\\nprint(f\"Average Daily Change: {average_change:.2f}\")\\nprint(f\"Trend: {trend}\")\\nprint(f\"Volatility: {volatility:.2f}\")\\n\\n# Display the last 5 days of data\\nprint(\"\\\\nLast 5 Trading Days:\")\\nprint(data[[\\'Date\\', \\'Close\\', \\'Daily_Change\\']])'}, 'id': 'call_0_035d82a1-7cba-41f7-a3d0-543d9958fb2e', 'type': 'tool_call'}], usage_metadata={'input_tokens': 1466, 'output_tokens': 259, 'total_tokens': 1725, 'input_token_details': {'cache_read': 192}, 'output_token_details': {}}), ToolMessage(content='Successfully executed:\\n```python\\nimport pandas as pd\\n\\n# Load the data from the CSV path\\ndata = pd.read_csv(\"/Volumes/mnt/Workspace/stock-analysis-agent-langgraph/data/mnst_performance_in_the_past_5_days.csv\")\\n\\n# Calculate the average daily change in closing price\\ndata[\\'Daily_Change\\'] = data[\\'Close\\'].diff()\\naverage_change = data[\\'Daily_Change\\'].mean()\\n\\n# Determine the trend (positive or negative)\\ntrend = \"positive\" if average_change > 0 else \"negative\"\\n\\n# Calculate volatility (standard deviation of daily changes)\\nvolatility = data[\\'Daily_Change\\'].std()\\n\\n# Print the results\\nprint(f\"Average Daily Change: {average_change:.2f}\")\\nprint(f\"Trend: {trend}\")\\nprint(f\"Volatility: {volatility:.2f}\")\\n\\n# Display the last 5 days of data\\nprint(\"\\\\nLast 5 Trading Days:\")\\nprint(data[[\\'Date\\', \\'Close\\', \\'Daily_Change\\']])\\n```\\nStdout: Average Daily Change: 0.02\\nTrend: positive\\nVolatility: 0.82\\n\\nLast 5 Trading Days:\\n                        Date      Close  Daily_Change\\n0  2025-05-05 00:00:00-04:00  60.910000           NaN\\n1  2025-05-06 00:00:00-04:00  60.020000     -0.889999\\n2  2025-05-07 00:00:00-04:00  60.560001      0.540001\\n3  2025-05-08 00:00:00-04:00  60.139999     -0.420002\\n4  2025-05-09 00:00:00-04:00  61.000000      0.860001\\n\\n\\nIf you have completed all tasks, respond with FINAL ANSWER.', name='python_repl_tool', id='e7895806-99a7-4110-8b69-907fee8cce4b', tool_call_id='call_0_035d82a1-7cba-41f7-a3d0-543d9958fb2e'), HumanMessage(content=\"### Analysis Results for MNST (Top NASDAQ-100 Gainer)\\n\\n1. **Average Daily Change**: $0.02 (positive trend)\\n2. **Volatility**: $0.82 (standard deviation of daily changes)\\n3. **Last 5 Trading Days**:\\n   - **2025-05-05**: Close = $60.91\\n   - **2025-05-06**: Close = $60.02 (Change = -$0.89)\\n   - **2025-05-07**: Close = $60.56 (Change = +$0.54)\\n   - **2025-05-08**: Close = $60.14 (Change = -$0.42)\\n   - **2025-05-09**: Close = $61.00 (Change = +$0.86)\\n\\nFINAL ANSWER: The stock MNST shows a positive trend with low average daily change ($0.02) and moderate volatility ($0.82). The last 5 days of trading data are provided above. Let me know if you'd like further analysis or comparison with a market index like the S&P 500.\", additional_kwargs={}, response_metadata={}, name='python_data_analyst', id='503b07b8-e504-4797-9373-a1e9a34e0cd6')]}}\n",
      "----\n"
     ]
    }
   ],
   "source": [
    "events = graph.stream(\n",
    "    {\n",
    "        \"messages\": [\n",
    "            (\n",
    "                \"user\",\n",
    "                \"First, get the top performance stock data \"\n",
    "            )\n",
    "        ],\n",
    "    },\n",
    "    # Maximum number of steps to take in the graph\n",
    "    {\"recursion_limit\": 10},\n",
    ")\n",
    "for s in events:\n",
    "    print(s)\n",
    "    print(\"----\")"
   ]
  },
  {
   "cell_type": "code",
   "execution_count": 22,
   "id": "be2a0893",
   "metadata": {},
   "outputs": [
    {
     "data": {
      "text/markdown": [
       "### Analysis Results for MNST (Top NASDAQ-100 Gainer)\n",
       "\n",
       "1. **Average Daily Change**: $0.02 (positive trend)\n",
       "2. **Volatility**: $0.82 (standard deviation of daily changes)\n",
       "3. **Last 5 Trading Days**:\n",
       "   - **2025-05-05**: Close = $60.91\n",
       "   - **2025-05-06**: Close = $60.02 (Change = -$0.89)\n",
       "   - **2025-05-07**: Close = $60.56 (Change = +$0.54)\n",
       "   - **2025-05-08**: Close = $60.14 (Change = -$0.42)\n",
       "   - **2025-05-09**: Close = $61.00 (Change = +$0.86)\n",
       "\n",
       "FINAL ANSWER: The stock MNST shows a positive trend with low average daily change ($0.02) and moderate volatility ($0.82). The last 5 days of trading data are provided above. Let me know if you'd like further analysis or comparison with a market index like the S&P 500."
      ],
      "text/plain": [
       "<IPython.core.display.Markdown object>"
      ]
     },
     "metadata": {},
     "output_type": "display_data"
    }
   ],
   "source": [
    "from IPython.display import display, Markdown\n",
    "display(Markdown(s['python_data_analyst']['messages'][-1].content))"
   ]
  },
  {
   "cell_type": "code",
   "execution_count": null,
   "id": "2b7d2d7c",
   "metadata": {},
   "outputs": [],
   "source": []
  },
  {
   "cell_type": "markdown",
   "id": "b1e2911a",
   "metadata": {},
   "source": []
  }
 ],
 "metadata": {
  "kernelspec": {
   "display_name": ".venv",
   "language": "python",
   "name": "python3"
  },
  "language_info": {
   "codemirror_mode": {
    "name": "ipython",
    "version": 3
   },
   "file_extension": ".py",
   "mimetype": "text/x-python",
   "name": "python",
   "nbconvert_exporter": "python",
   "pygments_lexer": "ipython3",
   "version": "3.10.16"
  }
 },
 "nbformat": 4,
 "nbformat_minor": 5
}
