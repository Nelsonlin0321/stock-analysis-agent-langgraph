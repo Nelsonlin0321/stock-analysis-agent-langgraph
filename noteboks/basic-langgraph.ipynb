{
 "cells": [
  {
   "cell_type": "code",
   "execution_count": 1,
   "id": "c8e6388a",
   "metadata": {},
   "outputs": [],
   "source": [
    "import os\n",
    "os.chdir(\"./../.\")"
   ]
  },
  {
   "cell_type": "code",
   "execution_count": 2,
   "id": "e8f2fff1",
   "metadata": {},
   "outputs": [],
   "source": [
    "%load_ext autoreload\n",
    "%autoreload 2\n"
   ]
  },
  {
   "cell_type": "code",
   "execution_count": 3,
   "id": "6fd3fed1",
   "metadata": {},
   "outputs": [],
   "source": [
    "import json\n",
    "import dotenv"
   ]
  },
  {
   "cell_type": "code",
   "execution_count": 4,
   "id": "e64d5532",
   "metadata": {},
   "outputs": [
    {
     "data": {
      "text/plain": [
       "True"
      ]
     },
     "execution_count": 4,
     "metadata": {},
     "output_type": "execute_result"
    }
   ],
   "source": [
    "dotenv.load_dotenv()"
   ]
  },
  {
   "cell_type": "code",
   "execution_count": 5,
   "id": "5bd57587",
   "metadata": {},
   "outputs": [],
   "source": [
    "\n",
    "from langchain_deepseek import ChatDeepSeek\n",
    "from langchain_core.tools import tool\n",
    "from langgraph.prebuilt import create_react_agent"
   ]
  },
  {
   "cell_type": "code",
   "execution_count": 6,
   "id": "201f7705",
   "metadata": {},
   "outputs": [],
   "source": [
    "from src.utils_stock import get_top_nasdaq_stock_data"
   ]
  },
  {
   "cell_type": "code",
   "execution_count": 7,
   "id": "51a78e66",
   "metadata": {},
   "outputs": [],
   "source": [
    "# parameter\n",
    "NUM_DAYS = 5"
   ]
  },
  {
   "cell_type": "code",
   "execution_count": 8,
   "id": "964e5b1b",
   "metadata": {},
   "outputs": [],
   "source": [
    "def get_system_prompt(suffix: str) -> str:\n",
    "    return (\n",
    "        \"You are a helpful AI assistant, collaborating with other assistants.\"\n",
    "        \" Use the provided tools to progress towards answering the question.\"\n",
    "        \" If you are unable to fully answer, that's OK, another assistant with different tools \"\n",
    "        \" will help where you left off. Execute what you can to make progress.\"\n",
    "        \" If you or any of the other assistants have the final answer or deliverable,\"\n",
    "        \" prefix your response with FINAL ANSWER so the team knows to stop.\"\n",
    "        f\"\\n{suffix}\"\n",
    "    )"
   ]
  },
  {
   "cell_type": "code",
   "execution_count": 9,
   "id": "5df89f15",
   "metadata": {},
   "outputs": [],
   "source": [
    "llm = ChatDeepSeek(model=\"deepseek-chat\",\n",
    "                   api_key=os.getenv(\"DEEPSEEK_API_KEY\"))"
   ]
  },
  {
   "cell_type": "markdown",
   "id": "95019abc",
   "metadata": {},
   "source": [
    "## Define tool"
   ]
  },
  {
   "cell_type": "code",
   "execution_count": 10,
   "id": "8ae18c44",
   "metadata": {},
   "outputs": [],
   "source": [
    "@tool\n",
    "def get_top_nasdaq_performance_stock_data() -> str:\n",
    "    \"\"\"Get the day's top NASDAQ-100 gainer with symbol, percentage increase, sample data in markdown format, pandas dataframe info and csv data path for further python code analysis.\n",
    "    \"\"\"\n",
    "    result = get_top_nasdaq_stock_data(NUM_DAYS)\n",
    "    return json.dumps(result)"
   ]
  },
  {
   "cell_type": "markdown",
   "id": "7a107e66",
   "metadata": {},
   "source": [
    "### Define Agent"
   ]
  },
  {
   "cell_type": "code",
   "execution_count": 11,
   "id": "bbb350ac",
   "metadata": {},
   "outputs": [],
   "source": [
    "# Research agent and node\n",
    "data_acquisition_agent = create_react_agent(\n",
    "    llm,\n",
    "    tools=[get_top_nasdaq_performance_stock_data],\n",
    "    prompt=get_system_prompt(\n",
    "        \"You can only do data acquisition to the day's top NASDAQ gainer info using get_top_nasdaq_performance_stock_data tool.\"\n",
    "    ),\n",
    ")"
   ]
  },
  {
   "cell_type": "markdown",
   "id": "a6a4230f",
   "metadata": {},
   "source": [
    "### Define Graph"
   ]
  },
  {
   "cell_type": "code",
   "execution_count": 12,
   "id": "b9afbda5",
   "metadata": {},
   "outputs": [],
   "source": [
    "\n",
    "\n",
    "from typing import Literal\n",
    "from langgraph.graph import MessagesState, END\n",
    "from langgraph.types import Command\n",
    "from langchain_core.messages import HumanMessage, BaseMessage"
   ]
  },
  {
   "cell_type": "code",
   "execution_count": 13,
   "id": "c51fe771",
   "metadata": {},
   "outputs": [],
   "source": [
    "def get_next_node(last_message: BaseMessage, goto: str):\n",
    "    if \"FINAL ANSWER\" in last_message.content:\n",
    "        # Any agent decided the work is done\n",
    "        return END\n",
    "    return goto"
   ]
  },
  {
   "cell_type": "code",
   "execution_count": 14,
   "id": "98646593",
   "metadata": {},
   "outputs": [],
   "source": [
    "def data_acquisition_node(\n",
    "    state: MessagesState,\n",
    ") -> Command[Literal[END]]:  # type: ignore\n",
    "    result = data_acquisition_agent.invoke(state)\n",
    "    goto = get_next_node(result[\"messages\"][-1], END)\n",
    "    # wrap in a human message, as not all providers allow\n",
    "    # AI message at the last position of the input messages list\n",
    "    result[\"messages\"][-1] = HumanMessage(\n",
    "        content=result[\"messages\"][-1].content, name=\"data_acquisition_specialist\"\n",
    "    )\n",
    "    return Command(\n",
    "        update={\n",
    "            # share internal message history of research agent with other agents\n",
    "            \"messages\": result[\"messages\"],\n",
    "        },\n",
    "        goto=goto,\n",
    "    )"
   ]
  },
  {
   "cell_type": "code",
   "execution_count": 15,
   "id": "5ecb7bb1",
   "metadata": {},
   "outputs": [],
   "source": [
    "from langgraph.graph import StateGraph, START\n",
    "\n",
    "workflow = StateGraph(MessagesState)\n",
    "workflow.add_node(\"data_acquisition_specialist\", data_acquisition_node)\n",
    "\n",
    "workflow.add_edge(START, \"data_acquisition_specialist\")\n",
    "graph = workflow.compile()"
   ]
  },
  {
   "cell_type": "code",
   "execution_count": 16,
   "id": "92ff46ab",
   "metadata": {},
   "outputs": [],
   "source": [
    "from IPython.display import Image, display\n",
    "\n",
    "try:\n",
    "    display(Image(graph.get_graph().draw_mermaid_png()))\n",
    "except Exception:\n",
    "    # This requires some extra dependencies and is optional\n",
    "    pass"
   ]
  },
  {
   "cell_type": "code",
   "execution_count": 18,
   "id": "1ce52e93",
   "metadata": {},
   "outputs": [
    {
     "name": "stderr",
     "output_type": "stream",
     "text": [
      "100%|██████████| 101/101 [00:02<00:00, 34.68it/s]\n"
     ]
    },
    {
     "name": "stdout",
     "output_type": "stream",
     "text": [
      "{'data_acquisition_specialist': {'messages': [HumanMessage(content='First, get the top performance stock data ', additional_kwargs={}, response_metadata={}, id='9833673c-7550-4a66-ac91-602f0fb25af5'), AIMessage(content='', additional_kwargs={'tool_calls': [{'id': 'call_0_4208df73-e073-416f-a4ae-867f649af681', 'function': {'arguments': '{}', 'name': 'get_top_nasdaq_performance_stock_data'}, 'type': 'function', 'index': 0}], 'refusal': None}, response_metadata={'token_usage': {'completion_tokens': 23, 'prompt_tokens': 237, 'total_tokens': 260, 'completion_tokens_details': None, 'prompt_tokens_details': {'audio_tokens': None, 'cached_tokens': 192}, 'prompt_cache_hit_tokens': 192, 'prompt_cache_miss_tokens': 45}, 'model_name': 'deepseek-chat', 'system_fingerprint': 'fp_8802369eaa_prod0425fp8', 'id': 'df59e8c5-3d2e-4414-9080-53f01fdeebf0', 'service_tier': None, 'finish_reason': 'tool_calls', 'logprobs': None}, id='run--88219a56-8826-49c1-95b0-8388232018bb-0', tool_calls=[{'name': 'get_top_nasdaq_performance_stock_data', 'args': {}, 'id': 'call_0_4208df73-e073-416f-a4ae-867f649af681', 'type': 'tool_call'}], usage_metadata={'input_tokens': 237, 'output_tokens': 23, 'total_tokens': 260, 'input_token_details': {'cache_read': 192}, 'output_token_details': {}}), ToolMessage(content='{\"symbol\": \"MNST\", \"percentage_increased\": 3.7238540649033007, \"sample_data_in_markdown\": \"| Date                      |   Open |   High |   Low |   Close |   Volume |   Dividends |   Stock Splits |\\\\n|:--------------------------|-------:|-------:|------:|--------:|---------:|------------:|---------------:|\\\\n| 2025-05-05 00:00:00-04:00 |  60.06 |  61.29 | 59.63 |   60.91 |  4609300 |           0 |              0 |\\\\n| 2025-05-06 00:00:00-04:00 |  60.58 |  60.77 | 59.89 |   60.02 |  5258100 |           0 |              0 |\\\\n| 2025-05-07 00:00:00-04:00 |  60.26 |  60.85 | 59.98 |   60.56 |  3870900 |           0 |              0 |\\\\n| 2025-05-08 00:00:00-04:00 |  60.65 |  61.07 | 60.08 |   60.14 |  6083900 |           0 |              0 |\\\\n| 2025-05-09 00:00:00-04:00 |  58.81 |  61.83 | 58.62 |   61    |  8654400 |           0 |              0 |\", \"data_csv_path\": \"/Volumes/mnt/Workspace/stock-analysis-agent-langgraph/data/mnst_performance_in_the_past_5_days.csv\", \"pandas_dataframe_info\": \"<class \\'pandas.core.frame.DataFrame\\'>\\\\nRangeIndex: 5 entries, 0 to 4\\\\nData columns (total 8 columns):\\\\n #   Column        Non-Null Count  Dtype                           \\\\n---  ------        --------------  -----                           \\\\n 0   Date          5 non-null      datetime64[ns, America/New_York]\\\\n 1   Open          5 non-null      float64                         \\\\n 2   High          5 non-null      float64                         \\\\n 3   Low           5 non-null      float64                         \\\\n 4   Close         5 non-null      float64                         \\\\n 5   Volume        5 non-null      int64                           \\\\n 6   Dividends     5 non-null      float64                         \\\\n 7   Stock Splits  5 non-null      float64                         \\\\ndtypes: datetime64[ns, America/New_York](1), float64(6), int64(1)\\\\nmemory usage: 448.0 bytes\\\\n\"}', name='get_top_nasdaq_performance_stock_data', id='eba73e63-485a-4481-87e4-8b4a56cd5875', tool_call_id='call_0_4208df73-e073-416f-a4ae-867f649af681'), HumanMessage(content=\"Here is the data for today's top NASDAQ-100 gainer:\\n\\n- **Symbol**: MNST\\n- **Percentage Increased**: 3.72%\\n\\n### Sample Data (Past 5 Days)\\n| Date                      |   Open |   High |   Low |   Close |   Volume |   Dividends |   Stock Splits |\\n|:--------------------------|-------:|-------:|------:|--------:|---------:|------------:|---------------:|\\n| 2025-05-05 00:00:00-04:00 |  60.06 |  61.29 | 59.63 |   60.91 |  4609300 |           0 |              0 |\\n| 2025-05-06 00:00:00-04:00 |  60.58 |  60.77 | 59.89 |   60.02 |  5258100 |           0 |              0 |\\n| 2025-05-07 00:00:00-04:00 |  60.26 |  60.85 | 59.98 |   60.56 |  3870900 |           0 |              0 |\\n| 2025-05-08 00:00:00-04:00 |  60.65 |  61.07 | 60.08 |   60.14 |  6083900 |           0 |              0 |\\n| 2025-05-09 00:00:00-04:00 |  58.81 |  61.83 | 58.62 |   61    |  8654400 |           0 |              0 |\\n\\n### Data Information\\n- **CSV Path**: `/Volumes/mnt/Workspace/stock-analysis-agent-langgraph/data/mnst_performance_in_the_past_5_days.csv`\\n- **DataFrame Info**:\\n  - 5 entries, 8 columns.\\n  - Columns include Date, Open, High, Low, Close, Volume, Dividends, and Stock Splits.\\n\\nLet me know if you'd like to analyze this data further!\", additional_kwargs={}, response_metadata={}, name='data_acquisition_specialist', id='dfd16993-ef17-4798-b29f-db50ca4fb5c1')]}}\n",
      "----\n"
     ]
    }
   ],
   "source": [
    "events = graph.stream(\n",
    "    {\n",
    "        \"messages\": [\n",
    "            (\n",
    "                \"user\",\n",
    "                \"First, get the top performance stock data \"\n",
    "            )\n",
    "        ],\n",
    "    },\n",
    "    # Maximum number of steps to take in the graph\n",
    "    {\"recursion_limit\": 10},\n",
    ")\n",
    "for s in events:\n",
    "    print(s)\n",
    "    print(\"----\")"
   ]
  },
  {
   "cell_type": "markdown",
   "id": "b1e2911a",
   "metadata": {},
   "source": []
  }
 ],
 "metadata": {
  "kernelspec": {
   "display_name": ".venv",
   "language": "python",
   "name": "python3"
  },
  "language_info": {
   "codemirror_mode": {
    "name": "ipython",
    "version": 3
   },
   "file_extension": ".py",
   "mimetype": "text/x-python",
   "name": "python",
   "nbconvert_exporter": "python",
   "pygments_lexer": "ipython3",
   "version": "3.10.16"
  }
 },
 "nbformat": 4,
 "nbformat_minor": 5
}
