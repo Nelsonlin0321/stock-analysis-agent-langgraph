{
 "cells": [
  {
   "cell_type": "markdown",
   "id": "3c2c6902",
   "metadata": {},
   "source": [
    "### Define Tools\n"
   ]
  },
  {
   "cell_type": "code",
   "execution_count": 1,
   "id": "67948a7c",
   "metadata": {},
   "outputs": [],
   "source": [
    "import pandas as pd\n",
    "\n",
    "\n",
    "def list_wikipedia_nasdaq100() -> pd.DataFrame:\n",
    "    # Ref: https://stackoverflow.com/a/75846060/\n",
    "    url = 'https://en.m.wikipedia.org/wiki/Nasdaq-100'\n",
    "    return pd.read_html(url, attrs={'id': \"constituents\"}, index_col='Ticker')[0]"
   ]
  },
  {
   "cell_type": "code",
   "execution_count": null,
   "id": "5b270f42",
   "metadata": {},
   "outputs": [],
   "source": [
    "df = list_wikipedia_nasdaq100()"
   ]
  },
  {
   "cell_type": "code",
   "execution_count": null,
   "id": "e8a214bf",
   "metadata": {},
   "outputs": [],
   "source": [
    "df = df.reset_index()"
   ]
  },
  {
   "cell_type": "code",
   "execution_count": null,
   "id": "37ed6726",
   "metadata": {},
   "outputs": [],
   "source": [
    "df.head()"
   ]
  },
  {
   "cell_type": "code",
   "execution_count": 6,
   "id": "1571e584",
   "metadata": {},
   "outputs": [],
   "source": [
    "df.to_csv(\"./../data/Nasdaq-100.csv\", index=False)"
   ]
  },
  {
   "cell_type": "code",
   "execution_count": null,
   "id": "298502b9",
   "metadata": {},
   "outputs": [],
   "source": []
  }
 ],
 "metadata": {
  "kernelspec": {
   "display_name": ".venv",
   "language": "python",
   "name": "python3"
  },
  "language_info": {
   "codemirror_mode": {
    "name": "ipython",
    "version": 3
   },
   "file_extension": ".py",
   "mimetype": "text/x-python",
   "name": "python",
   "nbconvert_exporter": "python",
   "pygments_lexer": "ipython3",
   "version": "3.10.16"
  }
 },
 "nbformat": 4,
 "nbformat_minor": 5
}
