{
 "cells": [
  {
   "cell_type": "markdown",
   "id": "3c2c6902",
   "metadata": {},
   "source": [
    "### Define Tools\n"
   ]
  },
  {
   "cell_type": "code",
   "execution_count": 1,
   "id": "67948a7c",
   "metadata": {},
   "outputs": [],
   "source": [
    "import pandas as pd\n",
    "\n",
    "\n",
    "def list_wikipedia_nasdaq100() -> pd.DataFrame:\n",
    "    # Ref: https://stackoverflow.com/a/75846060/\n",
    "    url = 'https://en.m.wikipedia.org/wiki/Nasdaq-100'\n",
    "    return pd.read_html(url, attrs={'id': \"constituents\"}, index_col='Ticker')[0]"
   ]
  },
  {
   "cell_type": "code",
   "execution_count": 2,
   "id": "5b270f42",
   "metadata": {},
   "outputs": [],
   "source": [
    "df = list_wikipedia_nasdaq100()"
   ]
  },
  {
   "cell_type": "code",
   "execution_count": 3,
   "id": "e8a214bf",
   "metadata": {},
   "outputs": [],
   "source": [
    "df = df.reset_index()"
   ]
  },
  {
   "cell_type": "code",
   "execution_count": 4,
   "id": "37ed6726",
   "metadata": {},
   "outputs": [
    {
     "data": {
      "text/html": [
       "<div>\n",
       "<style scoped>\n",
       "    .dataframe tbody tr th:only-of-type {\n",
       "        vertical-align: middle;\n",
       "    }\n",
       "\n",
       "    .dataframe tbody tr th {\n",
       "        vertical-align: top;\n",
       "    }\n",
       "\n",
       "    .dataframe thead th {\n",
       "        text-align: right;\n",
       "    }\n",
       "</style>\n",
       "<table border=\"1\" class=\"dataframe\">\n",
       "  <thead>\n",
       "    <tr style=\"text-align: right;\">\n",
       "      <th></th>\n",
       "      <th>Ticker</th>\n",
       "      <th>Company</th>\n",
       "      <th>GICS Sector</th>\n",
       "      <th>GICS Sub-Industry</th>\n",
       "    </tr>\n",
       "  </thead>\n",
       "  <tbody>\n",
       "    <tr>\n",
       "      <th>0</th>\n",
       "      <td>ADBE</td>\n",
       "      <td>Adobe Inc.</td>\n",
       "      <td>Information Technology</td>\n",
       "      <td>Application Software</td>\n",
       "    </tr>\n",
       "    <tr>\n",
       "      <th>1</th>\n",
       "      <td>AMD</td>\n",
       "      <td>Advanced Micro Devices</td>\n",
       "      <td>Information Technology</td>\n",
       "      <td>Semiconductors</td>\n",
       "    </tr>\n",
       "    <tr>\n",
       "      <th>2</th>\n",
       "      <td>ABNB</td>\n",
       "      <td>Airbnb</td>\n",
       "      <td>Consumer Discretionary</td>\n",
       "      <td>Hotels, Resorts &amp; Cruise Lines</td>\n",
       "    </tr>\n",
       "    <tr>\n",
       "      <th>3</th>\n",
       "      <td>GOOGL</td>\n",
       "      <td>Alphabet Inc. (Class A)</td>\n",
       "      <td>Communication Services</td>\n",
       "      <td>Interactive Media &amp; Services</td>\n",
       "    </tr>\n",
       "    <tr>\n",
       "      <th>4</th>\n",
       "      <td>GOOG</td>\n",
       "      <td>Alphabet Inc. (Class C)</td>\n",
       "      <td>Communication Services</td>\n",
       "      <td>Interactive Media &amp; Services</td>\n",
       "    </tr>\n",
       "  </tbody>\n",
       "</table>\n",
       "</div>"
      ],
      "text/plain": [
       "  Ticker                  Company             GICS Sector  \\\n",
       "0   ADBE               Adobe Inc.  Information Technology   \n",
       "1    AMD   Advanced Micro Devices  Information Technology   \n",
       "2   ABNB                   Airbnb  Consumer Discretionary   \n",
       "3  GOOGL  Alphabet Inc. (Class A)  Communication Services   \n",
       "4   GOOG  Alphabet Inc. (Class C)  Communication Services   \n",
       "\n",
       "                GICS Sub-Industry  \n",
       "0            Application Software  \n",
       "1                  Semiconductors  \n",
       "2  Hotels, Resorts & Cruise Lines  \n",
       "3    Interactive Media & Services  \n",
       "4    Interactive Media & Services  "
      ]
     },
     "execution_count": 4,
     "metadata": {},
     "output_type": "execute_result"
    }
   ],
   "source": [
    "df.head()"
   ]
  },
  {
   "cell_type": "code",
   "execution_count": 5,
   "id": "1571e584",
   "metadata": {},
   "outputs": [],
   "source": [
    "df.to_csv(\"./../data/Nasdaq-100.csv\", index=False)"
   ]
  },
  {
   "cell_type": "code",
   "execution_count": 6,
   "id": "298502b9",
   "metadata": {},
   "outputs": [],
   "source": [
    "df = pd.read_csv(\"./../data/Nasdaq-100.csv\")"
   ]
  },
  {
   "cell_type": "code",
   "execution_count": 14,
   "id": "4c41675b",
   "metadata": {},
   "outputs": [
    {
     "data": {
      "text/plain": [
       "{'Ticker': 'ADBE',\n",
       " 'Company': 'Adobe Inc.',\n",
       " 'GICS Sector': 'Information Technology',\n",
       " 'GICS Sub-Industry': 'Application Software'}"
      ]
     },
     "execution_count": 14,
     "metadata": {},
     "output_type": "execute_result"
    }
   ],
   "source": [
    "df[df['Ticker'] == 'ADBE'].iloc[0].to_dict()"
   ]
  },
  {
   "cell_type": "code",
   "execution_count": null,
   "id": "f28cbb22",
   "metadata": {},
   "outputs": [],
   "source": []
  }
 ],
 "metadata": {
  "kernelspec": {
   "display_name": ".venv",
   "language": "python",
   "name": "python3"
  },
  "language_info": {
   "codemirror_mode": {
    "name": "ipython",
    "version": 3
   },
   "file_extension": ".py",
   "mimetype": "text/x-python",
   "name": "python",
   "nbconvert_exporter": "python",
   "pygments_lexer": "ipython3",
   "version": "3.10.16"
  }
 },
 "nbformat": 4,
 "nbformat_minor": 5
}
